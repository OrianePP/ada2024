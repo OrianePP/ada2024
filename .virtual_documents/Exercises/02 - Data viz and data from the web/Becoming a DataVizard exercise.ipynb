


# Let's load necessary libraries and the datasets
# "pip install seaborn" if necessary

import pandas as pd
import numpy as np
import matplotlib.pyplot as plt
%matplotlib inline
import seaborn as sns
import math

data_folder = './Data/'


movies = pd.read_csv(data_folder+'blockbusters.csv')
movies['worldwide_gross'] = movies['worldwide_gross'].str.replace('$', '', regex=False).str.replace(',', '', regex=False).astype(float)

commune_pop = pd.read_excel(data_folder+'communes_pop.xls',skiprows=5,skipfooter=7,
                            sheet_name='2017',names=['commune','population_Jan',
                                                     'birth_alive','death','natrual_increase',
                                                     'arrivals','departure','migratory_balance',
                                                     'divergence_statistic','population_Dec','variation_num',
                                                     'variation_ratio'])

pop_per_commune = commune_pop[[name.startswith('......') for name in commune_pop.commune]].copy()














#we use pandas wrapper
movies['worldwide_gross'].hist(bins = 50, color = "#B8C0FF")

#alternatively, we can use matplotlib directly
#plt.hist(movies['worldwide_gross'].values, bins = 100)

plt.xlabel('Worldwide gross revenue')
plt.ylabel('Number of movies')
plt.title('Gross revenue, histogram');


box = plt.boxplot(movies['worldwide_gross'], patch_artist = True)
for patch in box['boxes']:
    patch.set(facecolor='#ffd60a')
    
plt.xticks([])
plt.title('Worldwide gross revenue');





plt.scatter(movies['worldwide_gross'], movies['imdb_rating'], c="#e56b6f")

plt.xlabel('Worldwide gross revenue')
plt.ylabel('IMDB rating')
plt.title('Scatterplot of imdb rating in terms of worldwide gross')





plt.scatter(movies['worldwide_gross'], movies['imdb_rating'], s = 2, c="#e56b6f")

plt.xlabel('Worldwide gross revenue')
plt.ylabel('IMDB rating')
plt.title('Scatterplot of imdb rating in terms of worldwide gross - smaller marker size')








sns.jointplot(x=movies['worldwide_gross'], y=movies['imdb_rating'], kind="hex", color = "#640d14")
#plt.title('Jointplot of imdb rating in terms of worldwide gross - Hexagone')


sns.jointplot(data = movies, x = 'worldwide_gross', y = 'imdb_rating', kind="kde", color = "#f15bb5")



sns.jointplot(data = movies, x = 'worldwide_gross', y = 'imdb_rating', kind="reg")





ax = sns.barplot(x="Main_Genre", y="worldwide_gross", palette = "rocket", 
                 data=movies.loc[movies['Main_Genre'].isin(['Thriller','Comedy','Fantasy','Sci-Fi','Romance'])])


ax = sns.boxplot(x="Main_Genre", y="worldwide_gross", palette = "rocket", data=movies.loc[movies['Main_Genre'].isin(['Thriller','Comedy',
                                                                                      'Fantasy','Sci-Fi','Romance'])])


ax = sns.violinplot(x="Main_Genre", y="worldwide_gross", palette = "rocket", data=movies.loc[movies['Main_Genre'].isin(['Thriller','Comedy',
                                                                                      'Fantasy','Sci-Fi','Romance'])])





# Calculate yearly stats across movies here
average_revenue_by_year = movies.groupby("year")['worldwide_gross'].agg(['mean','size'])


# Write your code to make plot with errorbars here


# Write your code to make filled plot here


# Write your interpretation here





# Calculate stats by genre here


# Write your code to make 4x4 panel here


# Write your interpretation here





# Write your code to make the first heatmap here


# Write your code to make the second heatmap here


# Write your interpretations here





# Write your dataviz show-off code here





# Write your code here





# Write your code here


# Write your interpretations here
