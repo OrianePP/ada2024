


!head Data/countries_info.csv


import pandas as pd
%matplotlib inline

DATA_FOLDER = 'Data/'

HAPPINESS_DATASET = DATA_FOLDER+"happiness2020.csv"
COUNTRIES_DATASET = DATA_FOLDER+"countries_info.csv"





# Write your code here
happiness = pd.read_csv(HAPPINESS_DATASET)
happiness.head()
happiness


countries = pd.read_csv(COUNTRIES_DATASET, decimal=',')
countries.head()
countries





# Write your code here

# Rename the column country_name of countries into country so that it matches the column in happiness
countries.rename(columns = {'country_name' : 'country'}, inplace = True)

# Rename the countries in happiness with a lower letter
happiness['country'] = happiness['country'].apply(lambda r: r.lower())
happiness


country_features = happiness.merge(countries)
country_features





# Write your code here

# order countries features based on the happiness score + head(10) of countries features
country_features.happiness_score.sort_values(ascending = False).head(10)



#use brackets [[]] to print countries
country_features.sort_values('happiness_score', ascending = False)[['country', 'happiness_score']].head(10)






# Write your code here

# group country_features by world region 
# size defines the number of countries per region
country_features_groupedbyregion = country_features.groupby("world_region")['happiness_score'].agg(['mean', 'size'])
country_features_groupedbyregion.sort_values("mean", ascending=False)





# Write your code here
country_features.loc[country_features['world_region'] == 'North America and ANZ']





# Write your code here






# Write your code here






# Write your code here





# Write your code here





# Write your code here





# Write your code here





# Write your code here



