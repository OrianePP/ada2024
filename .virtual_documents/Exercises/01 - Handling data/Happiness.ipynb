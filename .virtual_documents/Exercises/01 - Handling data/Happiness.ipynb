


!head Data/countries_info.csv


import pandas as pd
%matplotlib inline

DATA_FOLDER = 'Data/'

HAPPINESS_DATASET = DATA_FOLDER+"happiness2020.csv"
COUNTRIES_DATASET = DATA_FOLDER+"countries_info.csv"





# Write your code here
happiness = pd.read_csv(HAPPINESS_DATASET)
happiness.head()
happiness


countries = pd.read_csv(COUNTRIES_DATASET, decimal=',')
countries.head()
countries





# Write your code here

# Rename the column country_name of countries into country so that it matches the column in happiness
countries.rename(columns = {'country_name' : 'country'}, inplace = True)

# Rename the countries in happiness with a lower letter
happiness['country'] = happiness['country'].apply(lambda r: r.lower())
happiness


country_features = happiness.merge(countries)
country_features





# Write your code here

# order countries features based on the happiness score + head(10) of countries features
country_features.happiness_score.sort_values(ascending = False).head(10)



#use brackets [[]] to print countries
country_features.sort_values('happiness_score', ascending = False)[['country', 'happiness_score']].head(10)






# Write your code here

# group country_features by world region 
# size defines the number of countries per region
country_features_groupedbyregion = country_features.groupby("world_region")['happiness_score'].agg(['mean', 'size'])
country_features_groupedbyregion.sort_values("mean", ascending=False)





# Write your code here
country_features.loc[country_features['world_region'] == 'North America and ANZ']





# Write your code here
for idx, row in country_features[country_features.literacy==100].iterrows():
    print("{} - {} ({})".format(row.world_region, row.country, row.happiness_score))





# Write your code here
country_features.literacy.mean()





# Write your code here
literacy_below_50 = len(country_features[country_features.literacy < 50]) / len(country_features)
print("{:.2f}%".format(literacy_below_50 * 100))






# Write your code here
# sum of literacy * population across rows

illiterate = country_features.population * (100 - country_features.literacy)/100
illiterate_tot = illiterate.sum()
illiterate_percentage = illiterate_tot / country_features.population.sum()

print("The raw number of world population that is illiterate is ", illiterate_tot)
print("The percentage of world population that is illiterate is ", "{:.2f}%".format(illiterate_percentage*100))






# Write your code here

country_features['population_density'] = country_features.population / country_features.area
country_features





# Write your code here
country_features.sort_values('population_density', ascending = True)[['country', 'happiness_score']].head(3)





# Write your code here
country_features.plot.scatter(x = 'happiness_score', y = 'healthy_life_expectancy')



