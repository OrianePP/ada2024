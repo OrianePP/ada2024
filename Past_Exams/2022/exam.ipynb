{
 "cells": [
  {
   "cell_type": "markdown",
   "id": "09e9a536",
   "metadata": {},
   "source": [
    "## ADA final exam (Fall 2022)\n",
    "\n",
    "This exam consists of 3 tasks. Tasks 2 and 3 are independent of each other (although conceptually related).\n"
   ]
  },
  {
   "cell_type": "markdown",
   "id": "68507ec4",
   "metadata": {},
   "source": [
    "## Dataset\n",
    "\n",
    "For a Wikipedia editor to become an administrator, a so-called “request for adminship” ([RfA](https://en.wikipedia.org/wiki/Wikipedia:Requests_for_adminship)) must be submitted by either the candidate or another community member. Subsequently, any Wikipedia member may cast a supporting or opposing vote. Here we provide a simplified version of the Wikipedia RfA dataset, containing all votes from 2003 through 2012.\n",
    "\n",
    "###  Data format\n",
    "\n",
    "|        |   SRC |   TGT |   VOT |   RES |   YEA | DAT                 | TXT                                                                                                                                                                                               |\n",
    "|-------:|------:|------:|------:|------:|------:|:--------------------|:--------------------------------------------------------------------------------------------------------------------------------------------------------------------------------------------------|\n",
    "|  39054 |  3444 | 10170 |     1 |     1 |  2009 | 2009-07-01 17:50:00 | '''Support''' - Best of luck. &nbsp;                                                                                                                                                              |\n",
    "| 159680 |   722 |  9634 |    -1 |    -1 |  2006 | 2006-12-15 07:28:00 | '''Oppose''' Not even 2000 edits.                                                                                                                                                                 |\n",
    "| 173438 |  4194 |  5524 |     1 |     1 |  2005 | 2005-03-18 19:22:00 | Ohhh, you're Carrp!  In that case, '''Support'''.                                                                                                                                                 |\n",
    "|  60627 |  4855 |  9436 |     1 |     1 |  2008 | 2008-12-18 23:26:00 | '''Support''' via thoughtful answer to my question that demonstrates this editor has clue.                                                 |\n",
    "| 194809 |  7687 |   908 |     1 |     1 |  2004 | 2004-09-25 05:21:00 | Nicholas is very good in English. Also, he got '''exceptional''' patience to explain petty obvious facts in talk page to convince ignorants. Let the world be benefitted more out of his work. -- |\n",
    "\n",
    "\n",
    "- SRC: the user name of the source of the vote, i.e., of the user who cast the vote.\n",
    "- TGT: the user name of the target of the vote, i.e., of the user running for election.\n",
    "- VOT: the source's vote on the target (-1 = oppose; 1 = support).\n",
    "- RES: the outcome of the election (-1 = target was rejected as admin; 1 = target was accepted). **(We will not use this  column in this exam.)**\n",
    "- YEA: the year of the RfA.\n",
    "- DAT: the date and time of this vote. **(We will not use this column in this exam.)**\n",
    "- TXT: the comment written by the source. **(We will not use this column in this exam.)**\n",
    "\n",
    "---\n"
   ]
  },
  {
   "cell_type": "markdown",
   "id": "4a4a661c",
   "metadata": {},
   "source": [
    "## Structural balance theory\n",
    "\n",
    "**Structural balance theory** affirms that social networks tend to be organized so as to avoid conflictual situations, e.g., if a great friend of yours hates someone, you will likely not befriend that person.\n",
    "\n",
    "The theory can be operationalized by looking at _triangles_ in an undirected _signed graph_ capturing person-to-person relationships, where a _signed graph_ is a  graph in which each edge is associated with a positive or negative sign, and a _triangle_ is a set of three edges ($\\langle u,v \\rangle$, $\\langle v,w\\rangle$, $\\langle u,w\\rangle$) that fully connect three distinct nodes ($u, v, w$).\n",
    "\n",
    "\n",
    "\n",
    "_Triangles_ in an undirected signed graph can be in 4 _configurations_:\n",
    "all positive edges ($\\{+,+,+\\}$); \n",
    "all negative edges ($\\{-,-,-\\}$); \n",
    "two positive edges and one negative edge ($\\{+,+,-\\}$);\n",
    "one positive edge and two negative edges ($\\{+,-,-\\}$).\n",
    "\n",
    "Structural balance theory posits that social networks tend to favor triangle configurations with an even number of negative signs (i.e., $\\{+,+,+\\}$ and $\\{+,-,-\\}$), which can be understood as being “balanced” by avoiding conflictual situations. Intuitively, $\\{+,+,+\\}$ could be tagged as “The friend of my friend is my friend”, and $\\{+,-,-\\}$ as “The enemy of my enemy is my friend”, “The friend of my enemy is my enemy”, or “The enemy of my friend is my enemy”. On the contrary, triangle configurations with an odd number of negative signs (i.e., $\\{+,+,-\\}$ and $\\{-,-,-\\}$) are unstable (“unbalanced”) according to structural balance theory and will thus occur less frequently in social networks. For instance, me being friends with two mutual enemies ($\\{+,+,-\\}$) would lead to tension that could be resolved if the two enemies became friends or if I took sides and ended my friendship with one of the two. Similarly, two among three mutual enemies ($\\{-,-,-\\}$) would have the incentive to form an alliance to “gang up” against the third.\n",
    "\n",
    "Some social scientists have argued that three mutual enemies ($\\{-,-,-\\}$) is not necessarily a triangle configuration that social networks tend to avoid. This gives rise to **weak structural balance theory**, which only posits that social networks tend to avoid the “unbalanced” triangle configuration $\\{+,+,-\\}$.\n",
    "\n",
    "In a nutshell,\n",
    "- structural balance theory\n",
    "  - considers $\\{+,+,+\\}$, $\\{+,-,-\\}$ as balanced,\n",
    "  - and $\\{+,+,-\\}$, $\\{-,-,-\\}$ as unbalanced;\n",
    "- weak structural balance theory\n",
    "  - considers $\\{+,+,+\\}$, $\\{+,-,-\\}$, $\\{-,-,-\\}$ as balanced,\n",
    "  - and $\\{+,+,-\\}$ as unbalanced.\n",
    "\n"
   ]
  },
  {
   "cell_type": "markdown",
   "id": "d5f337c9",
   "metadata": {},
   "source": [
    "### Task 1: Preliminaries\n",
    "\n",
    "As a good data scientist, you first load the data and explore it.\n",
    "\n",
    "**1.1**\n",
    "Load the csv file `wiki-RfA.csv.gz` in a pandas dataframe. Calculate the number of distinct RfAs and the average number of votes per RfA.\n",
    "- **Hint:** Throughout this question, assume that each RfA is uniquely determined by the column `TGT` and each vote is uniquely determined by the combination of `SRC` and `TGT`."
   ]
  },
  {
   "cell_type": "code",
   "execution_count": 92,
   "id": "7ca724d9",
   "metadata": {},
   "outputs": [],
   "source": [
    "import pandas as pd\n",
    "import matplotlib.pyplot as plt"
   ]
  },
  {
   "cell_type": "code",
   "execution_count": 23,
   "id": "ff2e92a5",
   "metadata": {},
   "outputs": [
    {
     "name": "stdout",
     "output_type": "stream",
     "text": [
      "There are 3439 unique users running for adminship in the dataset\n",
      "The average number of votes per RfA is 48.561500436173304\n"
     ]
    }
   ],
   "source": [
    "# 1.1\n",
    "wikiRfa_df = pd.read_csv(\"wiki-RfA.csv.gz\")\n",
    "\n",
    "# Remove columns not used in the exam\n",
    "wikiRfa_df = wikiRfa_df.drop(['RES', 'DAT', 'TXT'], axis=1)\n",
    "wikiRfa_df\n",
    "\n",
    "# Calculate the number of distinct “request for adminship” (RfAs)\n",
    "print(\"There are\" , len(wikiRfa_df['TGT'].unique()), \"unique users running for adminship in the dataset\")\n",
    "\n",
    "# Calculate the average number of votes per RfA\n",
    "wikiRfa_groupedTGT = wikiRfa_df.groupby(['TGT'])\n",
    "rows_per_target = wikiRfa_groupedTGT.size()\n",
    "average_votes_per_Rfa = rows_per_target.mean()\n",
    "print(\"The average number of votes per RfA is\", average_votes_per_Rfa)\n",
    "\n"
   ]
  },
  {
   "cell_type": "markdown",
   "id": "813b5a32",
   "metadata": {},
   "source": [
    "**1.2** \n",
    "In a single figure with three subfigures (one per item), show the following time series:\n",
    "- the number of RfAs per year;\n",
    "- the overall fraction of positive votes per year; and \n",
    "- the average number of votes per RfA per year.\n",
    "\n",
    "For each of the above three quantities, print the value for the year 2008."
   ]
  },
  {
   "cell_type": "code",
   "execution_count": 110,
   "id": "b1732d7e",
   "metadata": {},
   "outputs": [
    {
     "name": "stdout",
     "output_type": "stream",
     "text": [
      "Number of RfAs in 2008: 520\n",
      "Fraction of positive votes in 2008: 0.7612268475384787\n",
      "Average number of votes per RfA in 2008: 51.60192307692308\n"
     ]
    },
    {
     "data": {
      "image/png": "[encoded data removed]",
      "text/plain": [
       "<Figure size 2000x600 with 3 Axes>"
      ]
     },
     "metadata": {},
     "output_type": "display_data"
    }
   ],
   "source": [
    "# 1.2 \n",
    "years = wikiRfa_df['YEA']\n",
    "\n",
    "# Number of RfAs per year\n",
    "RfAs_per_year = wikiRfa_df.groupby(['YEA', 'TGT']).size().groupby(level=\"YEA\").count()\n",
    "RfAs_per_year\n",
    "\n",
    "# Fraction of positive votes per year\n",
    "positive_per_year = wikiRfa_df.loc[wikiRfa_df['VOT'] == +1].groupby(['YEA']).size()\n",
    "tot_votes_per_year = wikiRfa_df.groupby(['YEA']).size()\n",
    "fraction_positive_per_year = positive_per_year / tot_votes_per_year\n",
    "fraction_positive_per_year\n",
    "\n",
    "# Average number of votes per Rfa per year\n",
    "votes_peryear_perRfA = wikiRfa_df.groupby(['YEA','TGT']).size().groupby(level=\"YEA\").mean()\n",
    "votes_peryear_perRfA\n",
    "\n",
    "\n",
    "# Make a 1 by 3 panel \n",
    "fig, axs = plt.subplots(1,3, figsize= (20,6), sharey = False, sharex = True)\n",
    "\n",
    "axs[0].set_title(\"Time serie of the number of RfAs per year\")\n",
    "RfAs_per_year.plot(ax=axs[0], color=\"#76c893\")\n",
    "axs[0].set_xlabel(\"Year\")\n",
    "axs[0].set_ylabel(\"Number RfAs\")\n",
    "\n",
    "axs[1].set_title(\"Time serie of the fraction of positive votes per year\")\n",
    "fraction_positive_per_year.plot(ax=axs[1], color=\"#76c893\")\n",
    "axs[1].set_xlabel(\"Year\")\n",
    "axs[1].set_ylabel(\"Fraction positive votes\")\n",
    "\n",
    "axs[2].set_title(\"Time serie of the average number of votes per RfA per year\")\n",
    "votes_peryear_perRfA.plot(ax=axs[2], color=\"#76c893\")\n",
    "axs[2].set_xlabel(\"Year\")\n",
    "axs[2].set_ylabel(\"Average number of votes per RfA\")\n",
    "    \n",
    "fig.tight_layout()\n",
    "\n",
    "print(\"Number of RfAs in 2008:\", RfAs_per_year[2008])\n",
    "print(\"Fraction of positive votes in 2008:\", fraction_positive_per_year[2008])\n",
    "print(\"Average number of votes per RfA in 2008:\", votes_peryear_perRfA[2008])\n"
   ]
  },
  {
   "cell_type": "markdown",
   "id": "366d38d9",
   "metadata": {},
   "source": [
    "**1.3** \n",
    "**/Discuss:/** Describe the temporal patterns observed in the plots you did in **T1.2**."
   ]
  },
  {
   "cell_type": "markdown",
   "id": "f41beb16",
   "metadata": {},
   "source": [
    "Number of RfAs per year peaked in 2006. It kept increasing from 2003 to 2006 and then kept decreasing from 2006 to 2012.\n",
    "\n",
    "The fraction of positive votes per year is globally decreasing except for small peaks in 2007 and 2011. It seems to be more and more difficult to obtain an adminship in Wikipedia. \n",
    "\n",
    "The average number of votes per RfA per year kept increasing since 2003. More and more Wikipedia users are involved in the attribution of adminships to new persons."
   ]
  },
  {
   "cell_type": "markdown",
   "id": "81126c89",
   "metadata": {},
   "source": [
    "**1.4** \n",
    "Create an undirected graph ([`nx.Graph`](https://networkx.org/documentation/stable/reference/classes/graph.html)) where every node corresponds to a Wikipedia user (source or target of an RfA) and where there exists an edge between two users if at least one of them has voted on the other. Each edge should have attributes corresponding to columns of the dataframe, namely:\n",
    "- `VOT`, which equals `1` if the vote was positive, and `-1` otherwise.\n",
    "- `YEA`, an integer that represents the year of the RfA.\n",
    "\n",
    "**The code to load the graph has been provided to you!** After running it, print the number of nodes and edges in your graph.\n",
    "\n",
    "---\n",
    "\n",
    "**Observation:** Note that we have at most one edge per pair of nodes in the graph, even though two votes may be associated with the pair  — e.g., if A voted in B's RfA in time $t_1$ and B voted in A's RfA in time $t_2$ ($t_1 < t_2$). In these cases, the code provided associates the metadata of the oldest vote ($t_1$ in the example) to the edge between A and B."
   ]
  },
  {
   "cell_type": "code",
   "execution_count": 105,
   "id": "e57d4776",
   "metadata": {},
   "outputs": [],
   "source": [
    "# Provided code! Do not change!\n",
    "import networkx as nx\n",
    "import pandas as pd\n",
    "G = nx.from_pandas_edgelist(pd.read_csv(\"./wiki-RfA.csv.gz\"), \n",
    "                            'SRC', 'TGT', ['VOT', 'RES', 'YEA', 'DAT'], create_using=nx.Graph)"
   ]
  },
  {
   "cell_type": "code",
   "execution_count": 106,
   "id": "f21ec7a6",
   "metadata": {},
   "outputs": [
    {
     "name": "stdout",
     "output_type": "stream",
     "text": [
      "Graph with 10831 nodes and 161147 edges\n"
     ]
    }
   ],
   "source": [
    "# 1.4\n",
    "print(G)"
   ]
  },
  {
   "cell_type": "markdown",
   "id": "37cbd1b8",
   "metadata": {},
   "source": [
    "**1.5** \n",
    "Plot the **complementary** cumulative distribution of the degree centrality of the undirected graph. Use a logarithmic (base 10) x-axis and a linear y-axis."
   ]
  },
  {
   "cell_type": "code",
   "execution_count": 136,
   "id": "c1edfd6a",
   "metadata": {},
   "outputs": [
    {
     "data": {
      "text/plain": [
       "Text(0.5, 0, 'Degree centrality')"
      ]
     },
     "execution_count": 136,
     "metadata": {},
     "output_type": "execute_result"
    },
    {
     "data": {
      "image/png": "[encoded data removed]",
      "text/plain": [
       "<Figure size 640x480 with 1 Axes>"
      ]
     },
     "metadata": {},
     "output_type": "display_data"
    }
   ],
   "source": [
    "# 1.5\n",
    "import seaborn as sns\n",
    "# The list of degrees can be obtained with list(dict(G.degree()).values())\n",
    "sns.ecdfplot(list(dict(G.degree()).values()), complementary = True)\n",
    "plt.xscale(\"log\")\n",
    "plt.axvline(11, color=\"#b56576\")\n",
    "plt.axhline(0.4, color=\"#b56576\")\n",
    "plt.title(\"Complementary CDF\")\n",
    "plt.xlabel(\"Degree centrality\")"
   ]
  },
  {
   "cell_type": "markdown",
   "id": "935be3bf",
   "metadata": {},
   "source": [
    "\n",
    "**1.6**\n",
    "**/Discuss:/** Why is the following statement false? Justify your answer. **\"From the graph obtained in task 1.5, one can conclude that around 40% of the users voted at least 11 times.\"**\n"
   ]
  },
  {
   "cell_type": "markdown",
   "id": "28613af4",
   "metadata": {},
   "source": [
    "This is false because the intersection of proportion = 40% with degree centrality = 11 is a point that clearly does not belong to the complementary cumulative distribution\n",
    "\n",
    "Around 40% of the users had at least degree 11. However, the graph counts both receiving and casting a vote as an edge so 40% is an upperbound (overestimation)"
   ]
  },
  {
   "cell_type": "markdown",
   "id": "9d1d5f4a",
   "metadata": {},
   "source": [
    "**1.7**\n",
    "What fraction of users voted at least 11 times? Use the data to measure the fraction."
   ]
  },
  {
   "cell_type": "code",
   "execution_count": 145,
   "id": "a167a11b",
   "metadata": {},
   "outputs": [
    {
     "data": {
      "text/plain": [
       "0.24863816822084756"
      ]
     },
     "execution_count": 145,
     "metadata": {},
     "output_type": "execute_result"
    }
   ],
   "source": [
    "# 1.7\n",
    "# Create MultiDiGraph so that we can separate in and out edges\n",
    "G2 = nx.from_pandas_edgelist(pd.read_csv(\"./wiki-RfA.csv.gz\"), 'SRC', 'TGT', ['VOT', 'RES', 'YEA'], create_using=nx.MultiDiGraph)\n",
    "\n",
    "# Voting is considered as an out edge > with retrieve all out-degree and select only those > 11\n",
    "# We divide by the total number of out degrees to get the fraction\n",
    "out_degrees = dict(G2.out_degree()).values()\n",
    "len([t for t in out_degrees if t >= 11]) / len(out_degrees)"
   ]
  },
  {
   "cell_type": "markdown",
   "id": "35b05b29",
   "metadata": {},
   "source": [
    "### Task 2: Triangles\n",
    "\n",
    "Next, you set out to investigate the social balance theory by looking at the RfA graph.\n",
    "\n",
    "**2.1**\n",
    "Considering _only_ the RfAs of 2004 (i.e., where `YEA == 2004`), generate all triangles in the undirected graph.\n",
    "Print the number of triangles found.\n",
    "- **Hint:** Note that you can generate a graph with only a subset of nodes and edges via ` G.edge_subgraph`.\n",
    "-  **Hint:** The function `nx.enumerate_all_cliques` generates all cliques in an undirected graph. First, all cliques of size 1 are generated, then all cliques of size 2, etc. Triangles are cliques of size 3.\n"
   ]
  },
  {
   "cell_type": "code",
   "execution_count": 166,
   "id": "b39a403e",
   "metadata": {},
   "outputs": [
    {
     "name": "stdout",
     "output_type": "stream",
     "text": [
      "Graph with 603 nodes and 4065 edges\n",
      "Number of triangles: 8448\n"
     ]
    }
   ],
   "source": [
    "# 2.1\n",
    "wikiRfa_2004 = wikiRfa_df.loc[wikiRfa_df['YEA'] == 2004]\n",
    "wikiRfa_2004 = wikiRfa_2004.drop('YEA', axis=1)\n",
    "\n",
    "G_2004 = nx.from_pandas_edgelist(wikiRfa_2004, 'SRC', 'TGT', ['VOT'], create_using=nx.Graph)\n",
    "print(G_2004)\n",
    "\n",
    "cliques_2004 = nx.enumerate_all_cliques(G_2004)\n",
    "triangles_2004 = []\n",
    "for i in cliques_2004:\n",
    "    if len(i) < 3: \n",
    "        continue\n",
    "    if len(i) > 3:\n",
    "        break\n",
    "    # add cliques of size 3 = triangles\n",
    "    triangles_2004.append(i)\n",
    "\n",
    "print(\"Number of triangles:\", len(triangles_2004))"
   ]
  },
  {
   "cell_type": "markdown",
   "id": "9b8ac389",
   "metadata": {},
   "source": [
    "**2.2 ** **/True or false:/** Is the following statement true or false? Justify your answer. **\"The node with the highest clustering coefficient in an undirected graph is the node that belongs to the largest number of triangles.\"**"
   ]
  },
  {
   "cell_type": "markdown",
   "id": "f961eef7",
   "metadata": {},
   "source": [
    "cluster coefficient is a fraction of closed triangles in edge net. This says nothing about the absolute number of triangles in the edge network (i.e., the network of neighbors).\n"
   ]
  },
  {
   "cell_type": "markdown",
   "id": "e2f5b22c",
   "metadata": {},
   "source": [
    "**2.3** Considering the set of triangles previously calculated, estimate the fraction of triangles of configurations\n",
    " $\\{+,+,+\\}$,  $\\{-,-,-\\}$,  $\\{+,+,-\\}$, and $\\{+,-,-\\}$. What fraction of triangles are \"balanced\" according to structural balance theory?"
   ]
  },
  {
   "cell_type": "code",
   "execution_count": 191,
   "id": "f858e94c",
   "metadata": {},
   "outputs": [
    {
     "name": "stdout",
     "output_type": "stream",
     "text": [
      "{(-1, -1, -1): 0.0052, (-1, -1, 1): 0.0627, (-1, 1, 1): 0.1394, (1, 1, 1): 0.7926}\n",
      "Fraction of triangles balanced according to the structural balance theory: 0.8553\n"
     ]
    }
   ],
   "source": [
    "# 2.3\n",
    "counter = {\n",
    "    (-1, -1, -1): 0, # -3\n",
    "    (-1, -1, 1):  0,  # +1-2\n",
    "    (-1, 1, 1):   0,   # +2-1\n",
    "    (1, 1, 1):    0     # +3\n",
    "}\n",
    "\n",
    "for triangle in triangles_2004:\n",
    "    x = nx.get_edge_attributes(G.subgraph(triangle), \"VOT\")\n",
    "    x = tuple(sorted([sign for (u, v), sign in x.items()]))\n",
    "    counter[x] += 1\n",
    "\n",
    "for i in counter:\n",
    "    counter[i] = round(counter[i] / len(triangles_2004), 4)\n",
    "\n",
    "print(counter)\n",
    "\n",
    "# structural balance theory considers {+,+,+}, {+,-,-} as balanced, and {+,+,-}, {-,-,-} as unbalanced\n",
    "fraction_balanced_triangles = counter[(1, 1, 1)] + counter[(-1, -1, 1)]\n",
    "print(\"Fraction of triangles balanced according to the structural balance theory:\", fraction_balanced_triangles)\n"
   ]
  },
  {
   "cell_type": "markdown",
   "id": "97e6f9f0",
   "metadata": {},
   "source": [
    "**2.4** To observe how triangle configurations would be distributed under a random null model, do the following:\n",
    "- Create a new column `VOT_RND` in the dataframe, where RfA votes (i.e., edge signs in the graph) are shuffled, i.e., permuted randomly.  For shuffling, use `numpy.random`, without replacement and with the seed 32 (see code provided below).\n",
    "- Create a new edge attribute with the values of `VOT_RND` in the graph you created in task **1.4**. You can do this easily using the  [`set_edge_attributes`](https://networkx.org/documentation/stable/reference/generated/networkx.classes.function.set_edge_attributes.html) function.\n",
    "- Considering the shuffled edge signs,  compute the fraction of triangles in each configuration ($\\{+,+,+\\}$,  $\\{-,-,-\\}$,  $\\{+,+,-\\}$, $\\{+,-,-\\}$). Moreover, compute the fraction of triangles that are \"balanced\" according to structural balance theory. (Reminder: consider only the RfAs of 2004.)\n"
   ]
  },
  {
   "cell_type": "code",
   "execution_count": 180,
   "id": "8b4cba61",
   "metadata": {},
   "outputs": [],
   "source": [
    "# PROVIDED STUB FOR 2.4\n",
    "import numpy as np\n",
    "np.random.seed(32)\n",
    "df_2004 = wikiRfa_df[wikiRfa_df.YEA == 2004].copy(deep=True)\n",
    "df_2004[\"VOT_RND\"] = np.random.choice(df_2004[\"VOT\"].values, size=len(df_2004), replace=False)"
   ]
  },
  {
   "cell_type": "code",
   "execution_count": 190,
   "id": "49cf240b",
   "metadata": {},
   "outputs": [
    {
     "name": "stdout",
     "output_type": "stream",
     "text": [
      "{(-1, -1, -1): 0.0019, (-1, -1, 1): 0.0344, (-1, 1, 1): 0.2779, (1, 1, 1): 0.6857}\n",
      "Fraction of triangles balanced according to the structural balance theory: 0.7201\n"
     ]
    }
   ],
   "source": [
    "# 2.4\n",
    "nx.set_edge_attributes(G, values=dict(df_2004.set_index([\"SRC\", \"TGT\"])['VOT_RND']), name='VOT_RND')\n",
    "\n",
    "#{+,+,+}, {-,-,-},  {+,+,-}, {+,-,-}\n",
    "counter_rnd = {\n",
    "    (-1, -1, -1): 0, # -3\n",
    "    (-1, -1, 1):  0,  # +1-2\n",
    "    (-1, 1, 1):   0,   # +2-1\n",
    "    (1, 1, 1):    0     # +3\n",
    "}\n",
    "\n",
    "for triangle in triangles_2004:\n",
    "    x = nx.get_edge_attributes(G.subgraph(triangle), \"VOT_RND\")\n",
    "    x = tuple(sorted([sign for (u, v), sign in x.items()]))\n",
    "    counter_rnd[x] += 1\n",
    "\n",
    "for i in counter_rnd:\n",
    "    counter_rnd[i] = round(counter_rnd[i] / len(triangles_2004), 4)\n",
    "\n",
    "print(counter_rnd)\n",
    "\n",
    "# structural balance theory considers {+,+,+}, {+,-,-} as balanced, and {+,+,-}, {-,-,-} as unbalanced\n",
    "fraction_balanced_triangles_rnd = counter_rnd[(1, 1, 1)] + counter_rnd[(-1, -1, 1)]\n",
    "print(\"Fraction of triangles balanced according to the structural balance theory:\", fraction_balanced_triangles_rnd)\n"
   ]
  },
  {
   "cell_type": "markdown",
   "id": "f055a145",
   "metadata": {},
   "source": [
    "**2.5** **/Discuss:/** Do the results of tasks **2.3** and **2.4** suggest that structural balance theory is correct? What kind of subsequent analysis would make you trust that the results are not obtained simply by chance? (No need to actually perform that subsequent analysis here.) Justify your answer."
   ]
  },
  {
   "cell_type": "code",
   "execution_count": 192,
   "id": "270f8eef",
   "metadata": {},
   "outputs": [
    {
     "name": "stdout",
     "output_type": "stream",
     "text": [
      "{(-1, -1, -1): 0.0052, (-1, -1, 1): 0.0627, (-1, 1, 1): 0.1394, (1, 1, 1): 0.7926}\n",
      "{(-1, -1, -1): 0.0019, (-1, -1, 1): 0.0344, (-1, 1, 1): 0.2779, (1, 1, 1): 0.6857}\n",
      "Fraction of triangles balanced according to the structural balance theory: 0.8553\n",
      "Fraction of triangles balanced according to the structural balance theory: 0.7201\n"
     ]
    }
   ],
   "source": [
    "print(counter)\n",
    "print(counter_rnd)\n",
    "\n",
    "print(\"Fraction of triangles balanced according to the structural balance theory:\", fraction_balanced_triangles)\n",
    "print(\"Fraction of triangles balanced according to the structural balance theory:\", fraction_balanced_triangles_rnd)"
   ]
  },
  {
   "cell_type": "markdown",
   "id": "160151f9",
   "metadata": {},
   "source": [
    "There are more triangles balanced according to the structural balance theory in the data than in a random data. This seems to indicate that the theory is correct. Balanced patterns are more frequently observed than random. We could however perform hypothesis testing to verify whether the difference is actually significant."
   ]
  },
  {
   "cell_type": "markdown",
   "id": "d5252ffb",
   "metadata": {},
   "source": [
    "### Interlude: Additional data\n",
    "\n",
    "In the data provided in the file `wiki-RfA.csv.gz` (with which you’ve worked up to now), each column corresponds to a vote from a user $u$ to a user $v$ at a time $t$. \n",
    "\n",
    "In **Task 2**, we did not consider the temporal aspect of this network. For the next task, you are provided with a complimentary dataset (`data/wiki-RfA_extra.csv.gz`) containing, for each vote (uniquely determined by `SRC` and `TGT`), a variety of features. **Importantly, these features were calculated considering only data that was already available at the time when the respective vote was cast.** The features are described as follows.\n",
    "\n",
    "- `PP`, `NN`, `PN` — Each vote (signed edge) is part of zero or more triangles, and we computed the number of triangles in which the two remaining edges were both positive (`PP`), both negative (`NN`) and of different signs (i.e., one positive and one negative, `PN`). This considers only the votes the target (denoted by `TGT`) has received before the current vote. \n",
    "\n",
    "- `P`, `N` — The number of positive (`P`) and negative (`N`) votes that the target `TGT` received before the current vote.\n",
    "\n",
    "- `TXT_PROCESSED` — The text in the original dataset, processed so 1) it is entirely lower-case, 2) it does not contain non-alphanumeric characters, and 3) it does not contain words starting with “supp” or “opp” (since words such as \"support\" and \"oppose\"  are obvious give-away signals of the vote).\n",
    "\n",
    "### Interlude: Predicting edge signs with structural balance theory\n",
    "\n",
    "We can use structural balance theory to predict edge signs. \n",
    "\n",
    "Consider an edge whose sign we do not know, as well as the fractions `PP`, `NN`, and `PN` associated with the edge, as defined above. \n",
    "\n",
    "According to structural balance theory, if `PP` + `NN` $\\geq$ `PN`, the vote is predicted to be positive, as this will create more balanced triangles in the graph. Otherwise, it is predicted to be negative. \n",
    "\n",
    "According to the weak structural balance theory, if `PP` $\\geq$ `PN`, the vote is predicted to be positive, as this will create more balanced triangles in the graph. Otherwise, it is predicted to be negative. \n",
    "\n",
    "Note that in both cases we use “$\\geq$” rather than “<”, i.e., when both sides of the equation are equal, we break ties in favor of positive edges. We do so because there are more positive edges in the graph."
   ]
  },
  {
   "cell_type": "markdown",
   "id": "e2f20eed",
   "metadata": {},
   "source": [
    "### Task 3: Predict it!\n",
    "\n",
    "In the final part of the exam, you will leverage your machine learning and regression skills.\n",
    "\n",
    "**3.1** Merge the new dataset with the original dataframe from task **1** using the columns `SRC` and `TGT`. You may drop the old `TXT` column if you want to. \n"
   ]
  },
  {
   "cell_type": "code",
   "execution_count": 204,
   "id": "a2272113",
   "metadata": {},
   "outputs": [
    {
     "data": {
      "text/html": [
       "<div>\n",
       "<style scoped>\n",
       "    .dataframe tbody tr th:only-of-type {\n",
       "        vertical-align: middle;\n",
       "    }\n",
       "\n",
       "    .dataframe tbody tr th {\n",
       "        vertical-align: top;\n",
       "    }\n",
       "\n",
       "    .dataframe thead th {\n",
       "        text-align: right;\n",
       "    }\n",
       "</style>\n",
       "<table border=\"1\" class=\"dataframe\">\n",
       "  <thead>\n",
       "    <tr style=\"text-align: right;\">\n",
       "      <th></th>\n",
       "      <th>SRC</th>\n",
       "      <th>TGT</th>\n",
       "      <th>VOT</th>\n",
       "      <th>RES</th>\n",
       "      <th>YEA_x</th>\n",
       "      <th>DAT</th>\n",
       "      <th>YEA_y</th>\n",
       "      <th>PP</th>\n",
       "      <th>NN</th>\n",
       "      <th>PN</th>\n",
       "      <th>N</th>\n",
       "      <th>P</th>\n",
       "      <th>TXT_PROCESSED</th>\n",
       "    </tr>\n",
       "  </thead>\n",
       "  <tbody>\n",
       "    <tr>\n",
       "      <th>0</th>\n",
       "      <td>5943</td>\n",
       "      <td>9966</td>\n",
       "      <td>-1</td>\n",
       "      <td>-1</td>\n",
       "      <td>2012</td>\n",
       "      <td>2012-12-30 22:27:00</td>\n",
       "      <td>2012</td>\n",
       "      <td>2</td>\n",
       "      <td>0</td>\n",
       "      <td>4</td>\n",
       "      <td>12</td>\n",
       "      <td>0</td>\n",
       "      <td></td>\n",
       "    </tr>\n",
       "    <tr>\n",
       "      <th>1</th>\n",
       "      <td>9153</td>\n",
       "      <td>9966</td>\n",
       "      <td>-1</td>\n",
       "      <td>-1</td>\n",
       "      <td>2012</td>\n",
       "      <td>2012-12-30 22:25:00</td>\n",
       "      <td>2012</td>\n",
       "      <td>2</td>\n",
       "      <td>1</td>\n",
       "      <td>3</td>\n",
       "      <td>11</td>\n",
       "      <td>0</td>\n",
       "      <td>this joke really isn t funny not even if you ...</td>\n",
       "    </tr>\n",
       "    <tr>\n",
       "      <th>2</th>\n",
       "      <td>4189</td>\n",
       "      <td>9966</td>\n",
       "      <td>-1</td>\n",
       "      <td>-1</td>\n",
       "      <td>2012</td>\n",
       "      <td>2012-12-30 22:17:00</td>\n",
       "      <td>2012</td>\n",
       "      <td>0</td>\n",
       "      <td>0</td>\n",
       "      <td>2</td>\n",
       "      <td>10</td>\n",
       "      <td>0</td>\n",
       "      <td>as per nomination and answers</td>\n",
       "    </tr>\n",
       "    <tr>\n",
       "      <th>3</th>\n",
       "      <td>3750</td>\n",
       "      <td>9966</td>\n",
       "      <td>-1</td>\n",
       "      <td>-1</td>\n",
       "      <td>2012</td>\n",
       "      <td>2012-12-30 22:14:00</td>\n",
       "      <td>2012</td>\n",
       "      <td>0</td>\n",
       "      <td>0</td>\n",
       "      <td>0</td>\n",
       "      <td>9</td>\n",
       "      <td>0</td>\n",
       "      <td>and speeedy close this as wp snow as it s cle...</td>\n",
       "    </tr>\n",
       "    <tr>\n",
       "      <th>4</th>\n",
       "      <td>4225</td>\n",
       "      <td>9966</td>\n",
       "      <td>-1</td>\n",
       "      <td>-1</td>\n",
       "      <td>2012</td>\n",
       "      <td>2012-12-30 22:08:00</td>\n",
       "      <td>2012</td>\n",
       "      <td>0</td>\n",
       "      <td>0</td>\n",
       "      <td>1</td>\n",
       "      <td>8</td>\n",
       "      <td>0</td>\n",
       "      <td>per nomination and answers i am particularly ...</td>\n",
       "    </tr>\n",
       "    <tr>\n",
       "      <th>...</th>\n",
       "      <td>...</td>\n",
       "      <td>...</td>\n",
       "      <td>...</td>\n",
       "      <td>...</td>\n",
       "      <td>...</td>\n",
       "      <td>...</td>\n",
       "      <td>...</td>\n",
       "      <td>...</td>\n",
       "      <td>...</td>\n",
       "      <td>...</td>\n",
       "      <td>...</td>\n",
       "      <td>...</td>\n",
       "      <td>...</td>\n",
       "    </tr>\n",
       "    <tr>\n",
       "      <th>166998</th>\n",
       "      <td>3867</td>\n",
       "      <td>2762</td>\n",
       "      <td>1</td>\n",
       "      <td>1</td>\n",
       "      <td>2003</td>\n",
       "      <td>2003-08-23 03:34:00</td>\n",
       "      <td>2003</td>\n",
       "      <td>0</td>\n",
       "      <td>0</td>\n",
       "      <td>0</td>\n",
       "      <td>0</td>\n",
       "      <td>0</td>\n",
       "      <td>also llywrch has been here for ages and done n...</td>\n",
       "    </tr>\n",
       "    <tr>\n",
       "      <th>166999</th>\n",
       "      <td>8091</td>\n",
       "      <td>8486</td>\n",
       "      <td>1</td>\n",
       "      <td>1</td>\n",
       "      <td>2003</td>\n",
       "      <td>2003-08-21 11:47:00</td>\n",
       "      <td>2003</td>\n",
       "      <td>0</td>\n",
       "      <td>0</td>\n",
       "      <td>0</td>\n",
       "      <td>0</td>\n",
       "      <td>0</td>\n",
       "      <td>user talk fantasy thanks and other of his act...</td>\n",
       "    </tr>\n",
       "    <tr>\n",
       "      <th>167000</th>\n",
       "      <td>1581</td>\n",
       "      <td>8767</td>\n",
       "      <td>1</td>\n",
       "      <td>1</td>\n",
       "      <td>2003</td>\n",
       "      <td>2003-08-18 23:16:00</td>\n",
       "      <td>2003</td>\n",
       "      <td>0</td>\n",
       "      <td>0</td>\n",
       "      <td>0</td>\n",
       "      <td>0</td>\n",
       "      <td>0</td>\n",
       "      <td>for wikiquote but i haven t seen enough evide...</td>\n",
       "    </tr>\n",
       "    <tr>\n",
       "      <th>167001</th>\n",
       "      <td>1011</td>\n",
       "      <td>8056</td>\n",
       "      <td>1</td>\n",
       "      <td>1</td>\n",
       "      <td>2003</td>\n",
       "      <td>2003-08-16 01:25:00</td>\n",
       "      <td>2003</td>\n",
       "      <td>0</td>\n",
       "      <td>0</td>\n",
       "      <td>0</td>\n",
       "      <td>0</td>\n",
       "      <td>0</td>\n",
       "      <td>does good things with maps</td>\n",
       "    </tr>\n",
       "    <tr>\n",
       "      <th>167002</th>\n",
       "      <td>1011</td>\n",
       "      <td>7238</td>\n",
       "      <td>1</td>\n",
       "      <td>1</td>\n",
       "      <td>2003</td>\n",
       "      <td>2003-08-16 01:25:00</td>\n",
       "      <td>2003</td>\n",
       "      <td>0</td>\n",
       "      <td>0</td>\n",
       "      <td>0</td>\n",
       "      <td>0</td>\n",
       "      <td>0</td>\n",
       "      <td></td>\n",
       "    </tr>\n",
       "  </tbody>\n",
       "</table>\n",
       "<p>167003 rows × 13 columns</p>\n",
       "</div>"
      ],
      "text/plain": [
       "         SRC   TGT  VOT  RES  YEA_x                  DAT  YEA_y  PP  NN  PN  \\\n",
       "0       5943  9966   -1   -1   2012  2012-12-30 22:27:00   2012   2   0   4   \n",
       "1       9153  9966   -1   -1   2012  2012-12-30 22:25:00   2012   2   1   3   \n",
       "2       4189  9966   -1   -1   2012  2012-12-30 22:17:00   2012   0   0   2   \n",
       "3       3750  9966   -1   -1   2012  2012-12-30 22:14:00   2012   0   0   0   \n",
       "4       4225  9966   -1   -1   2012  2012-12-30 22:08:00   2012   0   0   1   \n",
       "...      ...   ...  ...  ...    ...                  ...    ...  ..  ..  ..   \n",
       "166998  3867  2762    1    1   2003  2003-08-23 03:34:00   2003   0   0   0   \n",
       "166999  8091  8486    1    1   2003  2003-08-21 11:47:00   2003   0   0   0   \n",
       "167000  1581  8767    1    1   2003  2003-08-18 23:16:00   2003   0   0   0   \n",
       "167001  1011  8056    1    1   2003  2003-08-16 01:25:00   2003   0   0   0   \n",
       "167002  1011  7238    1    1   2003  2003-08-16 01:25:00   2003   0   0   0   \n",
       "\n",
       "         N  P                                      TXT_PROCESSED  \n",
       "0       12  0                                                     \n",
       "1       11  0   this joke really isn t funny not even if you ...  \n",
       "2       10  0                     as per nomination and answers   \n",
       "3        9  0   and speeedy close this as wp snow as it s cle...  \n",
       "4        8  0   per nomination and answers i am particularly ...  \n",
       "...     .. ..                                                ...  \n",
       "166998   0  0  also llywrch has been here for ages and done n...  \n",
       "166999   0  0   user talk fantasy thanks and other of his act...  \n",
       "167000   0  0   for wikiquote but i haven t seen enough evide...  \n",
       "167001   0  0                        does good things with maps   \n",
       "167002   0  0                                                     \n",
       "\n",
       "[167003 rows x 13 columns]"
      ]
     },
     "execution_count": 204,
     "metadata": {},
     "output_type": "execute_result"
    }
   ],
   "source": [
    "# 3.1\n",
    "wikiRfa_df = pd.read_csv(\"wiki-RfA.csv.gz\")\n",
    "wikiRfa_extra_df = pd.read_csv(\"wiki-RfA_extra.csv.gz\")\n",
    "\n",
    "wikiRfA_merged = pd.merge(wikiRfa_df, wikiRfa_extra_df, on=['SRC', 'TGT'])\n",
    "wikiRfA_merged = wikiRfA_merged.drop(\"TXT\", axis = 1)\n",
    "wikiRfA_merged\n"
   ]
  },
  {
   "cell_type": "markdown",
   "id": "c5d42a2d",
   "metadata": {},
   "source": [
    "**3.2**  Create the following two rule-based classifiers, and for each, estimate its area under the ROC curve (a.k.a. “AUC/ROC”) on the entire dataset:\n",
    "\n",
    "- **A)** a classifier inspired by structural balance theory. The classifier should predict a positive vote if  `PP` + `NN` $\\geq$ `PN`, and a negative vote otherwise.\n",
    "- **B)** a classifier inspired by weak structural balance theory. The classifier should predict a positive vote if `PP`  $\\geq$ `PN` and a negative vote otherwise."
   ]
  },
  {
   "cell_type": "code",
   "execution_count": 217,
   "id": "44643421",
   "metadata": {},
   "outputs": [
    {
     "name": "stdout",
     "output_type": "stream",
     "text": [
      "AUC/ROC score for classifier A: 0.525390127858417\n",
      "AUC/ROC score for classifier B: 0.528036104766419\n"
     ]
    }
   ],
   "source": [
    "# 3.2\n",
    "# Logistic regression > binary output > either positive vote or negative vote\n",
    "from sklearn.metrics import roc_auc_score\n",
    "\n",
    "# A) 1 means positive / 0 means negative\n",
    "y_true_A = (wikiRfA_merged.VOT.values == 1).astype(int)\n",
    "y_pred_A = (wikiRfA_merged.PP.values + wikiRfA_merged.NN.values >= wikiRfA_merged.PN.values).astype(int)\n",
    "print(\"AUC/ROC score for classifier A:\",roc_auc_score(y_true_A, y_pred_A))\n",
    "\n",
    "# B \n",
    "y_true_B = (wikiRfA_merged.VOT.values == 1).astype(int)\n",
    "y_pred_B = (wikiRfA_merged.PP.values  >= wikiRfA_merged.PN.values).astype(int)\n",
    "print(\"AUC/ROC score for classifier B:\",roc_auc_score(y_true_B, y_pred_B))\n"
   ]
  },
  {
   "cell_type": "markdown",
   "id": "0161ec09",
   "metadata": {},
   "source": [
    "**3.3** To determine if the differences in the classifiers from task **3.2** occur solely due to chance, follow the following bootstrap procedure, using 200 iterations:\n",
    "\n",
    "- **A)** Randomly sample the entire dataset (i.e., votes from the dataframe constructed in task **3.1**) with replacement;\n",
    "- **B)** Compute the difference of the AUC/ROC for the two classifiers on the entire dataset.\n",
    "\n",
    "Then use the distribution of AUC/ROC differences (one difference per bootstrap iteration) to estimate the 95% confidence interval for the AUC/ROC difference."
   ]
  },
  {
   "cell_type": "code",
   "execution_count": 226,
   "id": "817ee28f",
   "metadata": {},
   "outputs": [
    {
     "name": "stdout",
     "output_type": "stream",
     "text": [
      "The 95% confidence interval for the AUC/ROC difference between the classifier A and the classifier B is [ -0.00020010637445757177 , 0.0002739392461233975 ]\n"
     ]
    }
   ],
   "source": [
    "# 3.3 \n",
    "'''\n",
    "df_merged_rdm = wikiRfA_merged.copy(deep=True)\n",
    "df_merged_rdm[\"VOT\"] = np.random.choice(df_merged_rdm[\"VOT\"].values, size=len(df_merged_rdm), replace=True)\n",
    "\n",
    "# A) 1 means positive / 0 means negative\n",
    "y_true_A_rdm = (df_merged_rdm.VOT.values == 1).astype(int)\n",
    "y_pred_A_rdm = (df_merged_rdm.PP.values + df_merged_rdm.NN.values >= df_merged_rdm.PN.values).astype(int)\n",
    "print(\"The difference of the AUC/ROC score for classifier A:\", roc_auc_score(y_true_A, y_pred_A) - roc_auc_score(y_true_A_rdm, y_pred_A_rdm))\n",
    "\n",
    "# B \n",
    "y_true_B_rdm = (df_merged_rdm.VOT.values == 1).astype(int)\n",
    "y_pred_B_rdm = (df_merged_rdm.PP.values  >= df_merged_rdm.PN.values).astype(int)\n",
    "print(\"The difference of the AUC/ROC score for classifier B:\",roc_auc_score(y_true_B, y_pred_B) - roc_auc_score(y_true_B_rdm, y_pred_B_rdm))\n",
    "'''\n",
    "\n",
    "\n",
    "def bootstrap_confidence_interval(data, iterations=1000):\n",
    "    \"\"\"\n",
    "    Bootstrap the 95% confidence interval for the mean of the data.\n",
    "    \n",
    "    Parameters:\n",
    "    - data: An array of data\n",
    "    - iterations: The number of bootstrap samples to generate\n",
    "    \n",
    "    Returns:\n",
    "    - A tuple representing the lower and upper bounds of the 95% confidence interval\n",
    "    \"\"\"\n",
    "    bootstrap_sample = data.copy()\n",
    "\n",
    "    differences_aucroc = np.zeros(iterations)\n",
    "\n",
    "    for i in range(iterations):\n",
    "        bootstrap_sample['VOT'] = np.random.choice(data['VOT'], size=len(data), replace=True)\n",
    "\n",
    "        y_true_A_rdm = (bootstrap_sample.VOT.values == 1).astype(int)\n",
    "        y_pred_A_rdm = (bootstrap_sample.PP.values + bootstrap_sample.NN.values >= bootstrap_sample.PN.values).astype(int)\n",
    "        rocA = roc_auc_score(y_true_A_rdm, y_pred_A_rdm)\n",
    "\n",
    "        y_true_B_rdm = (bootstrap_sample.VOT.values == 1).astype(int)\n",
    "        y_pred_B_rdm = (bootstrap_sample.PP.values >= bootstrap_sample.PN.values).astype(int)\n",
    "        rocB = roc_auc_score(y_true_B_rdm, y_pred_B_rdm)\n",
    "\n",
    "        differences_aucroc[i] = rocA - rocB\n",
    "\n",
    "        \n",
    "    lower_bound = np.percentile(differences_aucroc, 2.5)\n",
    "    upper_bound = np.percentile(differences_aucroc, 97.5)\n",
    "    \n",
    "    return (lower_bound, upper_bound)\n",
    "\n",
    "low, up= bootstrap_confidence_interval(wikiRfA_merged, iterations=200)\n",
    "print(\"The 95% confidence interval for the AUC/ROC difference between the classifier A and the classifier B is [\", low, \",\", up, \"]\")\n"
   ]
  },
  {
   "cell_type": "markdown",
   "id": "4d0e1569",
   "metadata": {},
   "source": [
    "**3.4 /Discuss:**/ According to the results in tasks **3.2** and **3.3**, which theory better predicts actual edge signs, structural balance theory or the weak structural balance theory? \n"
   ]
  },
  {
   "cell_type": "markdown",
   "id": "94b39801",
   "metadata": {},
   "source": [
    "The weak social balance theory (B) better predicts actual edge signs"
   ]
  },
  {
   "cell_type": "markdown",
   "id": "28d37dc1",
   "metadata": {},
   "source": [
    "**3.5** How accurately can we predict the vote with more sophisticated features and algorithms?\n",
    "\n",
    "- Create a TF-IDF representation of the text of each vote  using `sklearn`'s vectorizer ([`sklearn.feature_extraction.text.TfidfVectorizer`](https://scikit-learn.org/stable/modules/generated/sklearn.feature_extraction.text.TfidfVectorizer.html)) with the parameters `max_features=150` and `stop_words='english'`.\n",
    "- Split the  dataset into training and test sets using sklearn [`sklearn.model_selection.train_test_split`](https://scikit-learn.org/stable/modules/generated/sklearn.model_selection.train_test_split.html) using parameters `test_size=0.1` and  `random_state=42`.\n",
    "\n",
    "- Then, train two logistic regression models ([`sklearn.linear_model.SGDClassifier`](https://scikit-learn.org/stable/modules/generated/sklearn.linear_model.SGDClassifier.html)) using parameters `loss='log_loss'` and `max_iter=2000` considering:\n",
    "\n",
    "    - **1)** the TF-IDF feature vector\n",
    "\n",
    "    - **2)** the TF-IDF feature vector and the features `PP`, `NN`, `PN`, `P`, and `N` related to the graph.\n",
    "\n",
    "- Last, report the AUC/ROC of each model in the test set."
   ]
  },
  {
   "cell_type": "code",
   "execution_count": 265,
   "id": "764a00f3",
   "metadata": {},
   "outputs": [
    {
     "name": "stdout",
     "output_type": "stream",
     "text": [
      "AUC/ROC of model 1: 0.6963453413680117\n",
      "AUC/ROC of model 2: 0.7714919939322726\n"
     ]
    }
   ],
   "source": [
    "# 3.5\n",
    "import sklearn\n",
    "import sklearn.feature_extraction\n",
    "import sklearn.linear_model\n",
    "import sklearn.model_selection\n",
    "\n",
    "vectorizer = sklearn.feature_extraction.text.TfidfVectorizer(max_features=150, stop_words='english')\n",
    "\n",
    "merged_df = wikiRfA_merged.dropna()\n",
    "X1 = vectorizer.fit_transform(merged_df.TXT_PROCESSED.values).toarray()\n",
    "X2 = np.hstack((X, merged_df[[\"PP\", \"NN\", \"PN\", \"N\", \"P\"]].values))\n",
    "y =  (wikiRfA_merged.dropna().VOT == 1).values.astype(int)\n",
    "\n",
    "X1_train, X1_test, y1_train, y1_test = sklearn.model_selection.train_test_split(X1, y, test_size=0.1, random_state=42)\n",
    "clf1 = sklearn.linear_model.SGDClassifier(random_state=0, loss='log_loss', max_iter=2000).fit(X1_train, y1_train)\n",
    "y1_pred = clf1.predict(X1_test)\n",
    "roc_clf1 = roc_auc_score(y1_test, y1_pred)\n",
    "print(\"AUC/ROC of model 1:\", roc_clf1)\n",
    "\n",
    "X2_train, X2_test, y2_train, y2_test = sklearn.model_selection.train_test_split(X2, y, test_size=0.1, random_state=42)\n",
    "clf2 = sklearn.linear_model.SGDClassifier(random_state=0, loss='log_loss', max_iter=2000).fit(X2_train, y2_train)\n",
    "y2_pred = clf2.predict(X2_test)\n",
    "roc_clf2 = roc_auc_score(y2_test, y2_pred)\n",
    "print(\"AUC/ROC of model 2:\", roc_clf2)\n"
   ]
  },
  {
   "cell_type": "markdown",
   "id": "898cbdd1",
   "metadata": {},
   "source": [
    "**3.6** **/Discuss:**/  According to the results in task **3.5**, does information from the graph help in the task of predicting the vote even when using the text?  What kind of subsequent analysis would make you trust that the results are not obtained simply by chance? (No need to actually perform that subsequent analysis here.) "
   ]
  },
  {
   "cell_type": "markdown",
   "id": "6b6767ad",
   "metadata": {},
   "source": [
    "Yes, information from the graph helps because the AUC/ROC score of the classifier is 8% higher with the additional features"
   ]
  },
  {
   "cell_type": "markdown",
   "id": "7f51071d",
   "metadata": {},
   "source": [
    "**3.7** Putting on your observational studies hat, run two logistic regressions using `statsmodels`.\n",
    "- In the first regression, the vote is the outcome, and `PP`, `NN` and `PN` are the predictors.\n",
    "- In the second regression, the vote is the outcome, and `PP`, `NN`, `PN`, and `N` are the predictors."
   ]
  },
  {
   "cell_type": "code",
   "execution_count": 283,
   "id": "9f8df411",
   "metadata": {},
   "outputs": [
    {
     "name": "stdout",
     "output_type": "stream",
     "text": [
      "Optimization terminated successfully.\n",
      "         Current function value: 0.514594\n",
      "         Iterations 7\n",
      "                           Logit Regression Results                           \n",
      "==============================================================================\n",
      "Dep. Variable:                    VOT   No. Observations:               167003\n",
      "Model:                          Logit   Df Residuals:                   166999\n",
      "Method:                           MLE   Df Model:                            3\n",
      "Date:                Tue, 07 Jan 2025   Pseudo R-squ.:                 0.01804\n",
      "Time:                        19:00:08   Log-Likelihood:                -85939.\n",
      "converged:                       True   LL-Null:                       -87517.\n",
      "Covariance Type:            nonrobust   LLR p-value:                     0.000\n",
      "==============================================================================\n",
      "                 coef    std err          z      P>|z|      [0.025      0.975]\n",
      "------------------------------------------------------------------------------\n",
      "Intercept      1.2781      0.006    206.255      0.000       1.266       1.290\n",
      "PP             0.2493      0.007     34.272      0.000       0.235       0.264\n",
      "NN            -0.6765      0.040    -16.946      0.000      -0.755      -0.598\n",
      "PN            -0.5509      0.014    -40.304      0.000      -0.578      -0.524\n",
      "==============================================================================\n",
      "Optimization terminated successfully.\n",
      "         Current function value: 0.487994\n",
      "         Iterations 7\n",
      "                           Logit Regression Results                           \n",
      "==============================================================================\n",
      "Dep. Variable:                    VOT   No. Observations:               167003\n",
      "Model:                          Logit   Df Residuals:                   166998\n",
      "Method:                           MLE   Df Model:                            4\n",
      "Date:                Tue, 07 Jan 2025   Pseudo R-squ.:                 0.06880\n",
      "Time:                        19:00:09   Log-Likelihood:                -81496.\n",
      "converged:                       True   LL-Null:                       -87517.\n",
      "Covariance Type:            nonrobust   LLR p-value:                     0.000\n",
      "==============================================================================\n",
      "                 coef    std err          z      P>|z|      [0.025      0.975]\n",
      "------------------------------------------------------------------------------\n",
      "Intercept      1.6227      0.008    212.945      0.000       1.608       1.638\n",
      "PP             0.2535      0.008     33.344      0.000       0.239       0.268\n",
      "NN            -0.5466      0.040    -13.631      0.000      -0.625      -0.468\n",
      "PN            -0.4561      0.014    -33.013      0.000      -0.483      -0.429\n",
      "N             -0.0438      0.000    -89.263      0.000      -0.045      -0.043\n",
      "==============================================================================\n"
     ]
    }
   ],
   "source": [
    "# 3.7\n",
    "wikiRfA_merged['VOT'] = (wikiRfA_merged['VOT'] == 1).astype(int)\n",
    "\n",
    "import statsmodels.formula.api as smf\n",
    "\n",
    "logistic1 = smf.logit(formula='VOT ~  PP + NN + PN', data=wikiRfA_merged)\n",
    "res1 = logistic1.fit()\n",
    "print(res1.summary())\n",
    "\n",
    "logistic2 = smf.logit(formula='VOT ~  PP + NN + PN + N', data=wikiRfA_merged)\n",
    "res2 = logistic2.fit()\n",
    "print(res2.summary())"
   ]
  },
  {
   "cell_type": "markdown",
   "id": "db15d090",
   "metadata": {},
   "source": [
    "**3.8** **/Discuss:**/   Explain what the coefficient associated with `PP` means in the first regression. Is it in accordance with structural balance theory?"
   ]
  },
  {
   "cell_type": "markdown",
   "id": "48845787",
   "metadata": {},
   "source": [
    "Coefficient associated with PP is 0.2493 which means that the number of triangles in which the two remaining edges are both positive contribute positively in having a positive vote (=1)\n",
    "This is in accordance with the structural balance theory and the principle that the friend of my friend is also my friend"
   ]
  },
  {
   "cell_type": "markdown",
   "id": "49752dbb",
   "metadata": {},
   "source": [
    "**3.9** **/Discuss:**/   Compare the coefficients associated with `PN` and `NN` in the first vs. the second regression. Present a reason that may explain this difference."
   ]
  },
  {
   "cell_type": "markdown",
   "id": "b344b4c1",
   "metadata": {},
   "source": [
    "PN: -0.5509 in the first model and -0.4561 in the second model\n",
    "NN: -0.6765 in the first model and -0.5466 in the second model\n",
    "\n",
    "Both coefficients are smaller in the first model. They increase when taking into account NN. \n",
    "\n",
    "This could be explained by the fact that previous negative votes tell something about the quality of the candidate, decreasing the log odds that they receive positive votes (this can be seen in the second regression)."
   ]
  },
  {
   "cell_type": "markdown",
   "id": "8ab7612b",
   "metadata": {},
   "source": [
    "**A3.9**  *YOUR ANSWER HERE*"
   ]
  },
  {
   "cell_type": "markdown",
   "id": "207c9147",
   "metadata": {},
   "source": [
    "---"
   ]
  }
 ],
 "metadata": {
  "kernelspec": {
   "display_name": "adaexam2022",
   "language": "python",
   "name": "python3"
  },
  "language_info": {
   "codemirror_mode": {
    "name": "ipython",
    "version": 3
   },
   "file_extension": ".py",
   "mimetype": "text/x-python",
   "name": "python",
   "nbconvert_exporter": "python",
   "pygments_lexer": "ipython3",
   "version": "3.9.7"
  }
 },
 "nbformat": 4,
 "nbformat_minor": 5
}
