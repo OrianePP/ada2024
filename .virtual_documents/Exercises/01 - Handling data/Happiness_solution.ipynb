


!head Data/countries_info.csv


import pandas as pd
%matplotlib inline

DATA_FOLDER = 'Data/'

HAPPINESS_DATASET = DATA_FOLDER+"happiness2020.csv"
COUNTRIES_DATASET = DATA_FOLDER+"countries_info.csv"





happiness = pd.read_csv(HAPPINESS_DATASET)
happiness.head()


countries = pd.read_csv(COUNTRIES_DATASET, decimal=',')
countries.head()





happiness['country_name'] = happiness['country'].apply(lambda r: r.lower())
country_features = happiness.merge(countries, on="country_name").drop("country_name", axis=1)
country_features.head()


print("happiness = {}".format(len(happiness)))
print("countries = {}".format(len(countries)))
print("country_features = {}".format(len(country_features)))

len(happiness) == len(countries) == len(country_features)





country_features.sort_values("happiness_score", ascending=False)[['country', 'happiness_score']].head(10)





average_by_region = country_features.groupby("world_region")['happiness_score'].agg(['mean','size'])
average_by_region.sort_values("mean", ascending=False)





country_features[country_features.world_region=='North America and ANZ'][['country', 'happiness_score']]





for idx, row in country_features[country_features.literacy==100].iterrows():
    print("{} - {} ({})".format(row.world_region, row.country, row.happiness_score))





country_features.literacy.mean()





percentage = len(country_features[country_features.literacy<50])/len(country_features)
print("Percentage of countries with literacy level < 50%: {:.2%}".format(percentage))





illiterate_people = country_features.population * (100 - country_features.literacy)/100
illiterate_fraction = illiterate_people.sum() / country_features.population.sum()

print("Illiterate people: {:.0f} ({:.2%})".format(illiterate_people.sum(), illiterate_fraction))





country_features["population_density"] = country_features['population']/country_features['area']
country_features.head()





country_features.sort_values("population_density", ascending=True)[['country', 'happiness_score']].head(3)





country_features.plot(x="happiness_score", y="healthy_life_expectancy", kind="scatter")



