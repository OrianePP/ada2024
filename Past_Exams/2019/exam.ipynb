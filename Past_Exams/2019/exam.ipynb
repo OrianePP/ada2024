{
 "cells": [
  {
   "cell_type": "markdown",
   "metadata": {},
   "source": [
    "# ADA final exam (winter semester 2019/2020)"
   ]
  },
  {
   "cell_type": "markdown",
   "metadata": {},
   "source": [
    "A friend of yours wants to start a YouTube channel and ideally earn some money via ads. However, there are so many channels and videos out there that your friend has no idea where to even start. Fortunately, they know that you have taken ADA and think you might help them out by analyzing the videos that are currently on YouTube."
   ]
  },
  {
   "cell_type": "markdown",
   "metadata": {},
   "source": [
    "The data you are provided with is a subset of YouTube videos, with videos from some of the giant channels in two categories: \"Gaming\" and \"How-to & Style\", which are the categories your friend is choosing between. The dataset contains a lot of videos, with data on those videos including their titles, their total number of views in 2019, their tags and descriptions, etc. The data is, in gzip-compressed format, contained in the `data/` folder, as the file `youtube.csv.gz`."
   ]
  },
  {
   "cell_type": "markdown",
   "metadata": {},
   "source": [
    "The three tasks A, B and C are **independent** of each other, and you can solve any combination of them. The exam is designed for more than 3 hours, so don't worry if you don't manage to solve everything; you can still score a 6."
   ]
  },
  {
   "cell_type": "markdown",
   "metadata": {},
   "source": [
    "You need to run the following two cells to read and prepare the dataset."
   ]
  },
  {
   "cell_type": "code",
   "execution_count": 34,
   "metadata": {},
   "outputs": [],
   "source": [
    "import pandas as pd\n",
    "import numpy as np\n",
    "import matplotlib.pyplot as plt"
   ]
  },
  {
   "cell_type": "code",
   "execution_count": 5,
   "metadata": {},
   "outputs": [
    {
     "data": {
      "text/html": [
       "<div>\n",
       "<style scoped>\n",
       "    .dataframe tbody tr th:only-of-type {\n",
       "        vertical-align: middle;\n",
       "    }\n",
       "\n",
       "    .dataframe tbody tr th {\n",
       "        vertical-align: top;\n",
       "    }\n",
       "\n",
       "    .dataframe thead th {\n",
       "        text-align: right;\n",
       "    }\n",
       "</style>\n",
       "<table border=\"1\" class=\"dataframe\">\n",
       "  <thead>\n",
       "    <tr style=\"text-align: right;\">\n",
       "      <th></th>\n",
       "      <th>channel</th>\n",
       "      <th>upload_date</th>\n",
       "      <th>title</th>\n",
       "      <th>tags</th>\n",
       "      <th>duration</th>\n",
       "      <th>view_count</th>\n",
       "      <th>average_rating</th>\n",
       "      <th>height</th>\n",
       "      <th>width</th>\n",
       "      <th>channel_cat</th>\n",
       "    </tr>\n",
       "  </thead>\n",
       "  <tbody>\n",
       "    <tr>\n",
       "      <th>0</th>\n",
       "      <td>PewDiePie</td>\n",
       "      <td>2013-03-04</td>\n",
       "      <td>A NEW ADVENTURE! - Kingdom Hearts (1) w/ Pewds</td>\n",
       "      <td>['lets', 'play', 'horror', 'game', 'walkthroug...</td>\n",
       "      <td>1126.0</td>\n",
       "      <td>2541550.0</td>\n",
       "      <td>4.886102</td>\n",
       "      <td>720.0</td>\n",
       "      <td>1280.0</td>\n",
       "      <td>Gaming</td>\n",
       "    </tr>\n",
       "    <tr>\n",
       "      <th>1</th>\n",
       "      <td>PewDiePie</td>\n",
       "      <td>2013-03-04</td>\n",
       "      <td>SAVING PRIVATE PEWDS - Conker's Bad Fur Day (15)</td>\n",
       "      <td>['lets', 'play', 'horror', 'game', 'walkthroug...</td>\n",
       "      <td>903.0</td>\n",
       "      <td>1727646.0</td>\n",
       "      <td>4.951531</td>\n",
       "      <td>720.0</td>\n",
       "      <td>1280.0</td>\n",
       "      <td>Gaming</td>\n",
       "    </tr>\n",
       "    <tr>\n",
       "      <th>2</th>\n",
       "      <td>PewDiePie</td>\n",
       "      <td>2013-03-04</td>\n",
       "      <td>THE WORST SCARE! - Amnesia: Rain (4)</td>\n",
       "      <td>['lets', 'play', 'horror', 'game', 'walkthroug...</td>\n",
       "      <td>806.0</td>\n",
       "      <td>1402747.0</td>\n",
       "      <td>4.962706</td>\n",
       "      <td>720.0</td>\n",
       "      <td>1280.0</td>\n",
       "      <td>Gaming</td>\n",
       "    </tr>\n",
       "    <tr>\n",
       "      <th>3</th>\n",
       "      <td>PewDiePie</td>\n",
       "      <td>2013-03-03</td>\n",
       "      <td>Nova / Sp00n / Cry / Pewds - Worms Revolution ...</td>\n",
       "      <td>['lets', 'play', 'horror', 'game', 'walkthroug...</td>\n",
       "      <td>909.0</td>\n",
       "      <td>4348296.0</td>\n",
       "      <td>4.937665</td>\n",
       "      <td>720.0</td>\n",
       "      <td>1280.0</td>\n",
       "      <td>Gaming</td>\n",
       "    </tr>\n",
       "    <tr>\n",
       "      <th>4</th>\n",
       "      <td>PewDiePie</td>\n",
       "      <td>2013-03-03</td>\n",
       "      <td>SEXIEST HORROR EVER - Amnesia: Rain (3)</td>\n",
       "      <td>['lets', 'play', 'horror', 'game', 'walkthroug...</td>\n",
       "      <td>834.0</td>\n",
       "      <td>1410659.0</td>\n",
       "      <td>4.957545</td>\n",
       "      <td>720.0</td>\n",
       "      <td>1280.0</td>\n",
       "      <td>Gaming</td>\n",
       "    </tr>\n",
       "    <tr>\n",
       "      <th>...</th>\n",
       "      <td>...</td>\n",
       "      <td>...</td>\n",
       "      <td>...</td>\n",
       "      <td>...</td>\n",
       "      <td>...</td>\n",
       "      <td>...</td>\n",
       "      <td>...</td>\n",
       "      <td>...</td>\n",
       "      <td>...</td>\n",
       "      <td>...</td>\n",
       "    </tr>\n",
       "    <tr>\n",
       "      <th>139502</th>\n",
       "      <td>cutepolish</td>\n",
       "      <td>2010-02-23</td>\n",
       "      <td>Easy Bride Wedding Nails</td>\n",
       "      <td>['easy', 'makeup', 'beauty', 'fashion']</td>\n",
       "      <td>201.0</td>\n",
       "      <td>284147.0</td>\n",
       "      <td>4.608439</td>\n",
       "      <td>480.0</td>\n",
       "      <td>640.0</td>\n",
       "      <td>Howto &amp; Style</td>\n",
       "    </tr>\n",
       "    <tr>\n",
       "      <th>139503</th>\n",
       "      <td>cutepolish</td>\n",
       "      <td>2010-02-22</td>\n",
       "      <td>Purple Flower Nails</td>\n",
       "      <td>['easy', 'makeup', 'beauty', 'fashion', 'tutor...</td>\n",
       "      <td>180.0</td>\n",
       "      <td>136278.0</td>\n",
       "      <td>4.638451</td>\n",
       "      <td>480.0</td>\n",
       "      <td>640.0</td>\n",
       "      <td>Howto &amp; Style</td>\n",
       "    </tr>\n",
       "    <tr>\n",
       "      <th>139504</th>\n",
       "      <td>cutepolish</td>\n",
       "      <td>2010-02-21</td>\n",
       "      <td>Domo Kun Nails</td>\n",
       "      <td>['easy', 'makeup', 'beauty', 'fashion']</td>\n",
       "      <td>277.0</td>\n",
       "      <td>228384.0</td>\n",
       "      <td>4.836411</td>\n",
       "      <td>480.0</td>\n",
       "      <td>640.0</td>\n",
       "      <td>Howto &amp; Style</td>\n",
       "    </tr>\n",
       "    <tr>\n",
       "      <th>139505</th>\n",
       "      <td>cutepolish</td>\n",
       "      <td>2010-02-20</td>\n",
       "      <td>Easy Plaid Nails</td>\n",
       "      <td>['easy', 'makeup', 'beauty', 'fashion']</td>\n",
       "      <td>174.0</td>\n",
       "      <td>247053.0</td>\n",
       "      <td>4.855700</td>\n",
       "      <td>480.0</td>\n",
       "      <td>640.0</td>\n",
       "      <td>Howto &amp; Style</td>\n",
       "    </tr>\n",
       "    <tr>\n",
       "      <th>139506</th>\n",
       "      <td>cutepolish</td>\n",
       "      <td>2010-02-20</td>\n",
       "      <td>Hime Gyaru Nails</td>\n",
       "      <td>['makeup', 'beauty', 'fashion']</td>\n",
       "      <td>329.0</td>\n",
       "      <td>331964.0</td>\n",
       "      <td>4.462126</td>\n",
       "      <td>480.0</td>\n",
       "      <td>640.0</td>\n",
       "      <td>Howto &amp; Style</td>\n",
       "    </tr>\n",
       "  </tbody>\n",
       "</table>\n",
       "<p>139507 rows × 10 columns</p>\n",
       "</div>"
      ],
      "text/plain": [
       "           channel upload_date  \\\n",
       "0        PewDiePie  2013-03-04   \n",
       "1        PewDiePie  2013-03-04   \n",
       "2        PewDiePie  2013-03-04   \n",
       "3        PewDiePie  2013-03-03   \n",
       "4        PewDiePie  2013-03-03   \n",
       "...            ...         ...   \n",
       "139502  cutepolish  2010-02-23   \n",
       "139503  cutepolish  2010-02-22   \n",
       "139504  cutepolish  2010-02-21   \n",
       "139505  cutepolish  2010-02-20   \n",
       "139506  cutepolish  2010-02-20   \n",
       "\n",
       "                                                    title  \\\n",
       "0          A NEW ADVENTURE! - Kingdom Hearts (1) w/ Pewds   \n",
       "1        SAVING PRIVATE PEWDS - Conker's Bad Fur Day (15)   \n",
       "2                    THE WORST SCARE! - Amnesia: Rain (4)   \n",
       "3       Nova / Sp00n / Cry / Pewds - Worms Revolution ...   \n",
       "4                 SEXIEST HORROR EVER - Amnesia: Rain (3)   \n",
       "...                                                   ...   \n",
       "139502                           Easy Bride Wedding Nails   \n",
       "139503                                Purple Flower Nails   \n",
       "139504                                     Domo Kun Nails   \n",
       "139505                                   Easy Plaid Nails   \n",
       "139506                                   Hime Gyaru Nails   \n",
       "\n",
       "                                                     tags  duration  \\\n",
       "0       ['lets', 'play', 'horror', 'game', 'walkthroug...    1126.0   \n",
       "1       ['lets', 'play', 'horror', 'game', 'walkthroug...     903.0   \n",
       "2       ['lets', 'play', 'horror', 'game', 'walkthroug...     806.0   \n",
       "3       ['lets', 'play', 'horror', 'game', 'walkthroug...     909.0   \n",
       "4       ['lets', 'play', 'horror', 'game', 'walkthroug...     834.0   \n",
       "...                                                   ...       ...   \n",
       "139502            ['easy', 'makeup', 'beauty', 'fashion']     201.0   \n",
       "139503  ['easy', 'makeup', 'beauty', 'fashion', 'tutor...     180.0   \n",
       "139504            ['easy', 'makeup', 'beauty', 'fashion']     277.0   \n",
       "139505            ['easy', 'makeup', 'beauty', 'fashion']     174.0   \n",
       "139506                    ['makeup', 'beauty', 'fashion']     329.0   \n",
       "\n",
       "        view_count  average_rating  height   width    channel_cat  \n",
       "0        2541550.0        4.886102   720.0  1280.0         Gaming  \n",
       "1        1727646.0        4.951531   720.0  1280.0         Gaming  \n",
       "2        1402747.0        4.962706   720.0  1280.0         Gaming  \n",
       "3        4348296.0        4.937665   720.0  1280.0         Gaming  \n",
       "4        1410659.0        4.957545   720.0  1280.0         Gaming  \n",
       "...            ...             ...     ...     ...            ...  \n",
       "139502    284147.0        4.608439   480.0   640.0  Howto & Style  \n",
       "139503    136278.0        4.638451   480.0   640.0  Howto & Style  \n",
       "139504    228384.0        4.836411   480.0   640.0  Howto & Style  \n",
       "139505    247053.0        4.855700   480.0   640.0  Howto & Style  \n",
       "139506    331964.0        4.462126   480.0   640.0  Howto & Style  \n",
       "\n",
       "[139507 rows x 10 columns]"
      ]
     },
     "execution_count": 5,
     "metadata": {},
     "output_type": "execute_result"
    }
   ],
   "source": [
    "youtube = pd.read_csv('data/youtube.csv.gz', compression='gzip')\n",
    "youtube.upload_date = pd.to_datetime(youtube.upload_date)\n",
    "youtube"
   ]
  },
  {
   "cell_type": "markdown",
   "metadata": {},
   "source": [
    "## Dataset description"
   ]
  },
  {
   "cell_type": "markdown",
   "metadata": {},
   "source": [
    "Each row of the dataset corresponds to one video that was uploaded to YouTube. There are 11 columns:\n",
    "'channel', 'upload_date', 'title', 'categories', 'tags', 'duration',\n",
    "       'view_count', 'average_rating', 'height', 'width', 'channel_cat'.\n",
    "- `channel`: The channel (account) on which the video was uploaded.\n",
    "- `upload_date`: The date on which the video was uploaded (Pandas Timestamp object).\n",
    "- `title`: The title of the video.\n",
    "- `tags`: A list of words that describe the video.\n",
    "- `duration`: The duration of the video in seconds.\n",
    "- `view_count`: The number of times the video was watched.\n",
    "- `average_rating`: The average score with which the viewers rated the video (1-5).\n",
    "- `height`: The height of the video in pixels.\n",
    "- `width`: The width of the video in pixels.\n",
    "- `channel_cat`: The category of the channel on which this video was uploaded. This dataset only contains videos from channels from the 'Gaming' and the 'Howto & Style' category."
   ]
  },
  {
   "cell_type": "markdown",
   "metadata": {},
   "source": [
    "# Task A: Welcome to the exam!"
   ]
  },
  {
   "cell_type": "markdown",
   "metadata": {},
   "source": [
    "All of Task A refers to the videos that were published between and including 2010 and 2018."
   ]
  },
  {
   "cell_type": "markdown",
   "metadata": {},
   "source": [
    "## A1: A growing platform?"
   ]
  },
  {
   "cell_type": "markdown",
   "metadata": {},
   "source": [
    "You would first like to know whether YouTube in general is the right platform to invest time into."
   ]
  },
  {
   "cell_type": "markdown",
   "metadata": {},
   "source": [
    "1. Using the appropriate plot type, plot the number of videos published per year between and including 2010 and 2018."
   ]
  },
  {
   "cell_type": "code",
   "execution_count": 47,
   "metadata": {},
   "outputs": [
    {
     "data": {
      "image/png": "[encoded data removed]",
      "text/plain": [
       "<Figure size 640x480 with 1 Axes>"
      ]
     },
     "metadata": {},
     "output_type": "display_data"
    }
   ],
   "source": [
    "# Isolate the year of publication and filter only videos published between 2010 and 2018\n",
    "youtube['year'] = youtube['upload_date'].apply(lambda x: x.year)\n",
    "youtube_select = youtube.loc[(youtube['year'] >= 2010) & (youtube['year'] <= 2018)]\n",
    "youtube_select\n",
    "\n",
    "nb_videos_per_year = youtube_select.groupby(['year']).size()\n",
    "nb_videos_per_year\n",
    "\n",
    "plt.figure()\n",
    "plt.bar(nb_videos_per_year.index, nb_videos_per_year.values, color=\"#ff0054\")\n",
    "plt.xlabel(\"Year\")\n",
    "plt.ylabel(\"Number of videos\")\n",
    "plt.title(\"Number of videos published per year between 2010 and 2018\")\n",
    "plt.show()\n"
   ]
  },
  {
   "cell_type": "markdown",
   "metadata": {},
   "source": [
    "2. Now for each year, plot the number of channels that have been created between the beginning of 2010 and the end of that year. A channel is considered to be created at the time at which they upload their first video."
   ]
  },
  {
   "cell_type": "code",
   "execution_count": 100,
   "metadata": {},
   "outputs": [
    {
     "data": {
      "image/png": "[encoded data removed]",
      "text/plain": [
       "<Figure size 640x480 with 1 Axes>"
      ]
     },
     "metadata": {},
     "output_type": "display_data"
    }
   ],
   "source": [
    "# Remove channels created before 1st January 2010 (31 channels removed)\n",
    "new_channels = youtube[~youtube.channel.isin(youtube.channel[youtube.upload_date < np.datetime64('2010-01-01')].unique())]\n",
    "\n",
    "# Filter only videos published between 2010 and 2018 (does not remove any channel)\n",
    "new_channels = new_channels.loc[(new_channels['year'] >= 2010) & (new_channels['year'] <= 2018)]\n",
    "\n",
    "# Identify  the year of creation as the earlier date of publication of each channel\n",
    "# Count the number of channels per year using cumulative sum\n",
    "channels_year = new_channels.groupby(['channel']).min(new_channels['upload_date'].all)\n",
    "channels_created_per_year = channels_year.groupby(['year']).size()\n",
    "channels_created_per_year = channels_created_per_year.cumsum()\n",
    "\n",
    "# Plot the number of channels created per year\n",
    "plt.figure()\n",
    "plt.bar(channels_created_per_year.index, channels_created_per_year.values, color=\"#90be6d\")\n",
    "plt.xlabel(\"Year\")\n",
    "plt.ylabel(\"Number of channels\")\n",
    "plt.title(\"Number of channels created per year between 2010 and the end of each following year\")\n",
    "plt.show()\n",
    "\n"
   ]
  },
  {
   "cell_type": "markdown",
   "metadata": {},
   "source": [
    "3. Normalize the number of videos published each year by the number of channels that have been created between the beginning of 2010 and the end of that year, and plot these quantities. Do seperate plots for gaming channels, how-to channels, and both together. Can you conclude from the plot that both gaming and how-to channels have been becoming less and less active recently? Why, or why not?"
   ]
  },
  {
   "cell_type": "code",
   "execution_count": 145,
   "metadata": {},
   "outputs": [
    {
     "data": {
      "image/png": "[encoded data removed]",
      "text/plain": [
       "<Figure size 2000x500 with 3 Axes>"
      ]
     },
     "metadata": {},
     "output_type": "display_data"
    }
   ],
   "source": [
    "# Gaming channels only\n",
    "youtube_select = youtube.loc[(youtube['year'] >= 2010) & (youtube['year'] <= 2018)]\n",
    "youtube_select_gaming = youtube_select.loc[youtube_select['channel_cat'] == 'Gaming']\n",
    "nb_videos_per_year_gaming = youtube_select_gaming.groupby(['year']).size()\n",
    "\n",
    "new_channels = youtube[~youtube.channel.isin(youtube.channel[youtube.upload_date < np.datetime64('2010-01-01')].unique())]\n",
    "new_channels = new_channels.loc[(new_channels['year'] >= 2010) & (new_channels['year'] <= 2018)]\n",
    "new_channels_gaming = new_channels.loc[new_channels['channel_cat'] == 'Gaming']\n",
    "channels_year_gaming = new_channels_gaming.groupby(['channel']).min(new_channels_gaming['upload_date'].all)\n",
    "channels_created_per_year_gaming = channels_year_gaming.groupby(['year']).size().cumsum()\n",
    "\n",
    "normalized_gaming = nb_videos_per_year_gaming / channels_created_per_year_gaming\n",
    "\n",
    "# How-to channels only\n",
    "youtube_select_howto = youtube_select.loc[youtube_select['channel_cat'] == 'Howto & Style']\n",
    "nb_videos_per_year_howto = youtube_select_howto.groupby(['year']).size()\n",
    "\n",
    "new_channels_howto = new_channels.loc[new_channels['channel_cat'] == 'Howto & Style']\n",
    "channels_year_howto = new_channels_howto.groupby(['channel']).min(new_channels_howto['upload_date'].all)\n",
    "channels_created_per_year_howto = channels_year_howto.groupby(['year']).size().cumsum()\n",
    "\n",
    "normalized_howto = nb_videos_per_year_howto / channels_created_per_year_howto\n",
    "\n",
    "# Both together\n",
    "normalized_both = nb_videos_per_year / channels_created_per_year\n",
    "\n",
    "fig, ax = plt.subplots(1,3, figsize=(20,5), sharex=True, sharey=True)\n",
    "ax[0].bar(normalized_gaming.index, normalized_gaming.values, color=\"#62b6cb\")\n",
    "ax[0].set_title(\"Gaming channels\")\n",
    "ax[1].bar(normalized_howto.index, normalized_howto.values, color=\"#ce4257\")\n",
    "ax[1].set_title(\"How-to & Style channels\")\n",
    "ax[2].bar(normalized_both.index, normalized_both.values, color=\"#7b2cbf\")\n",
    "ax[2].set_title(\"Both types of channels\")\n",
    "plt.show()"
   ]
  },
  {
   "cell_type": "markdown",
   "metadata": {},
   "source": [
    "Can you conclude from the plot that both gaming and how-to channels have been becoming less and less active recently? Why, or why not?\n",
    "\n",
    "Gaming channels are becoming less and less active but how-to channels are very slowly becoming more active."
   ]
  },
  {
   "cell_type": "markdown",
   "metadata": {},
   "source": [
    "## A2: The one thing we all love: cash money"
   ]
  },
  {
   "cell_type": "markdown",
   "metadata": {},
   "source": [
    "Your friend is really keen on making money from their YouTube channel through ads and wants you to help them choose the most profitable channel category (Gaming or Howto & Style). The ad profit is directly proportional to the number of views of a video."
   ]
  },
  {
   "cell_type": "markdown",
   "metadata": {},
   "source": [
    "1. Since your friend wants to keep producing videos for several years to come, it might also be worth looking at the growth of the two categories.\n",
    "  1. Compute the total number of views in each category per year for the years 2010-2018.\n",
    "  2. Divide the yearly view count by the number of channels that posted a video in each category in each year. Plot these normalized counts.\n",
    "\n",
    "\n"
   ]
  },
  {
   "cell_type": "code",
   "execution_count": 156,
   "metadata": {},
   "outputs": [
    {
     "name": "stdout",
     "output_type": "stream",
     "text": [
      "Total views - Gaming category: 126925430067.0\n",
      "Total views - How-to & Style category: 77073332795.0\n"
     ]
    }
   ],
   "source": [
    "# 2\n",
    "print(\"Total views - Gaming category:\",youtube_select_gaming.view_count.sum())\n",
    "print(\"Total views - How-to & Style category:\",youtube_select_howto.view_count.sum())"
   ]
  },
  {
   "cell_type": "code",
   "execution_count": 157,
   "metadata": {},
   "outputs": [
    {
     "data": {
      "image/png": "[encoded data removed]",
      "text/plain": [
       "<Figure size 2000x500 with 2 Axes>"
      ]
     },
     "metadata": {},
     "output_type": "display_data"
    }
   ],
   "source": [
    "youtube_select = youtube.loc[(youtube['year'] >= 2010) & (youtube['year'] <= 2018)]\n",
    "\n",
    "# 3\n",
    "nb_views_per_year_gaming = youtube_select_gaming.groupby(['year']).sum(['view_count'])['view_count']\n",
    "nb_views_per_year_howto = youtube_select_howto.groupby(['year']).sum(['view_count'])['view_count']\n",
    "\n",
    "normalized_views_per_year_gaming = nb_views_per_year_gaming / channels_year_gaming.groupby(['year']).size()\n",
    "normalized_views_per_year_howto = nb_views_per_year_howto / channels_year_howto.groupby(['year']).size()\n",
    "\n",
    "# Plot normalized counts\n",
    "fig, ax = plt.subplots(1,2, figsize=(20,5), sharex=True, sharey=True)\n",
    "ax[0].bar(normalized_views_per_year_gaming.index, normalized_views_per_year_gaming.values, color=\"#62b6cb\")\n",
    "ax[0].set_title(\"Normalized counts of views for gaming channels\")\n",
    "ax[1].bar(normalized_views_per_year_howto.index, normalized_views_per_year_howto.values, color=\"#ce4257\")\n",
    "ax[1].set_title(\"Normalized counts of views for How-to & Style channels\")\n",
    "ax[0].set_ylabel(\"View count\")\n",
    "ax[1].set_ylabel(\"View count\")\n",
    "ax[0].set_xlabel(\"Year\")\n",
    "ax[1].set_xlabel(\"Year\")\n",
    "plt.show()"
   ]
  },
  {
   "cell_type": "markdown",
   "metadata": {},
   "source": [
    "2. Your friend's channel will be brand new, so you decide to look more closely at newer channels. For this question and all the following questions in A2, only consider channels that uploaded their first video in  2016 or later. Compute the total number of views in each category and divide it by the number of channels in that category.\n"
   ]
  },
  {
   "cell_type": "code",
   "execution_count": 164,
   "metadata": {},
   "outputs": [
    {
     "name": "stdout",
     "output_type": "stream",
     "text": [
      "Total view count of gaming channels created after 2016: 895409422.375\n",
      "Total view count of How-to & style channels created after 2016: 1374135339.0\n"
     ]
    }
   ],
   "source": [
    "new_channels_2016 = youtube[~youtube.channel.isin(youtube.channel[youtube.upload_date < np.datetime64('2016-01-01')].unique())]\n",
    "new_channels_2016_gaming = new_channels_2016.loc[new_channels_2016['channel_cat'] == 'Gaming']\n",
    "new_channels_2016_howto = new_channels_2016.loc[new_channels_2016['channel_cat'] == 'Howto & Style']\n",
    "\n",
    "views_gaming_2016 = new_channels_2016_gaming.view_count.sum()\n",
    "views_howto_2016 = new_channels_2016_howto.view_count.sum()\n",
    "\n",
    "print(\"Total view count of gaming channels created after 2016:\", views_gaming_2016 / len(new_channels_2016_gaming['channel'].unique()))\n",
    "print(\"Total view count of How-to & style channels created after 2016:\", views_howto_2016 / len(new_channels_2016_howto['channel'].unique()))"
   ]
  },
  {
   "cell_type": "markdown",
   "metadata": {},
   "source": [
    "3. The number of views might be very unevenly over the different channels, and channels might upload different numbers of videos.\n",
    "  1. Compute the mean number of views per video for each channel.\n",
    "  2. Compute the mean of these means for each of the two categories. Print these values.\n",
    "  3. Using bootstrapping, compute 95% confidence intervals for these two means. From this analysis, can you draw a recommendation for one of the two categories? Why, or why not?"
   ]
  },
  {
   "cell_type": "code",
   "execution_count": 180,
   "metadata": {},
   "outputs": [
    {
     "name": "stdout",
     "output_type": "stream",
     "text": [
      "Mean number of views per video per channel - How-to & Style category  channel\n",
      "5-Minute Crafts            4.001437e+06\n",
      "5-Minute Crafts GIRLY      1.810882e+06\n",
      "5-Minute Crafts PLAY       1.879931e+06\n",
      "Anaysa                     3.424131e+06\n",
      "Antonio Garza              3.983921e+06\n",
      "BRICO SYMPA                2.964726e+05\n",
      "BRIGHT SIDE                3.602201e+06\n",
      "Blossom                    1.143963e+07\n",
      "Crafty Panda               1.509486e+07\n",
      "Grandpa Kitchen            2.774519e+06\n",
      "Health Tips for You        7.638814e+04\n",
      "Homemade solutions         3.291543e+06\n",
      "Hong Giang DIY Slime       3.016172e+06\n",
      "Indian Health              4.710675e+05\n",
      "Izabela Stress             3.801210e+06\n",
      "MeLlamanFredy              7.323903e+05\n",
      "SHORT TIME SECRET          1.309930e+06\n",
      "Satisfying Slime Videos    1.924520e+06\n",
      "So Yummy                   7.171213e+06\n",
      "Tasty                      9.620655e+05\n",
      "Tom Slime                  3.434468e+06\n",
      "Xyz Gyan                   1.868584e+06\n",
      "YourHealth                 1.172341e+06\n",
      "Name: view_count, dtype: float64\n"
     ]
    }
   ],
   "source": [
    "# 4 \n",
    "howto_perchannel_new = new_channels_2016_howto[['view_count', 'channel']].groupby('channel').mean().view_count\n",
    "howto_perchannel_new_mean = howto_perchannel_new.mean()\n",
    "\n",
    "gaming_perchannel_new = new_channels_2016_gaming[['view_count', 'channel']].groupby('channel').mean().view_count\n",
    "gaming_perchannel_new_mean = gaming_perchannel_new.mean()\n",
    "\n",
    "print(\"Mean number of views per video per channel - How-to & Style category \", howto_perchannel_new)\n"
   ]
  },
  {
   "cell_type": "code",
   "execution_count": 181,
   "metadata": {},
   "outputs": [
    {
     "name": "stdout",
     "output_type": "stream",
     "text": [
      "Mean number of views per video per channel - Gaming category  channel\n",
      "Ceeday           2.596953e+06\n",
      "Chris Smoove     3.569548e+05\n",
      "Clash Royale     2.037094e+06\n",
      "Daequan Loco     1.136136e+06\n",
      "Denis            2.074953e+06\n",
      "Frost Diamond    1.204915e+06\n",
      "GameGrumps       6.767778e+05\n",
      "Jess No Limit    1.154385e+06\n",
      "Name: view_count, dtype: float64\n"
     ]
    }
   ],
   "source": [
    "print(\"Mean number of views per video per channel - Gaming category \", gaming_perchannel_new)"
   ]
  },
  {
   "cell_type": "code",
   "execution_count": 182,
   "metadata": {},
   "outputs": [
    {
     "name": "stdout",
     "output_type": "stream",
     "text": [
      "Mean of means Gaming 1404771.1416982808\n",
      "Mean of means How-to & Style 3371299.2233319054\n"
     ]
    }
   ],
   "source": [
    "# 2. Compute the mean of these means for each of the two categories. Print these values.\n",
    "print(\"Mean of means Gaming\", gaming_perchannel_new_mean)\n",
    "print(\"Mean of means How-to & Style\", howto_perchannel_new_mean)"
   ]
  },
  {
   "cell_type": "code",
   "execution_count": 186,
   "metadata": {},
   "outputs": [
    {
     "name": "stdout",
     "output_type": "stream",
     "text": [
      "95% CI for How-to & Style category: (2134358.4881805317, 5083887.855974938)\n",
      "95% CI for Gaming category: (914369.1599280507, 1862168.205264705)\n"
     ]
    }
   ],
   "source": [
    "#3. Using bootstrapping, compute 95% confidence intervals for these two means. From this analysis, can you draw a recommendation \n",
    "# for one of the two categories? Why, or why not?\n",
    "\n",
    "def bootstrap_confidence_interval(data, iterations=200):\n",
    "    \"\"\"\n",
    "    Bootstrap the 95% confidence interval for the mean of the data.\n",
    "\n",
    "    Parameters:\n",
    "    - data: An array of data\n",
    "    - iterations: The number of bootstrap samples to generate\n",
    "    \n",
    "    Returns:\n",
    "    - A tuple representing the lower and upper bounds of the 95% confidence interval\n",
    "    \"\"\"\n",
    "    means = np.zeros(iterations)\n",
    "    \n",
    "    for i in range(iterations):\n",
    "        bootstrap_sample = np.random.choice(data, size=len(data), replace=True)\n",
    "        means[i] = np.mean(bootstrap_sample)\n",
    "        \n",
    "    lower_bound = np.percentile(means, 2.5)\n",
    "    upper_bound = np.percentile(means, 97.5)\n",
    "    \n",
    "    return (lower_bound, upper_bound)\n",
    "\n",
    "print(\"95% CI for How-to & Style category:\",bootstrap_confidence_interval(howto_perchannel_new))\n",
    "print(\"95% CI for Gaming category:\",bootstrap_confidence_interval(gaming_perchannel_new))"
   ]
  },
  {
   "cell_type": "markdown",
   "metadata": {},
   "source": [
    "Overall, we can recommend our friend to open a How-to & Style channel. We can recommend this because both CI do not overlap which means that How-to & Style channels have significantly more views than Gaming channels."
   ]
  },
  {
   "cell_type": "markdown",
   "metadata": {},
   "source": [
    "# Task B: View forecasting (Machine Learning)"
   ]
  },
  {
   "cell_type": "markdown",
   "metadata": {},
   "source": [
    "Your friend wants to figure out how they can optimize their videos for getting the maximum number of views (without using shocking thumbnails and clickbait titles). In this task, you will build a machine learning (ML) model for predicting the success of a video."
   ]
  },
  {
   "cell_type": "markdown",
   "metadata": {},
   "source": [
    "## B1: Get those shovels out again"
   ]
  },
  {
   "cell_type": "markdown",
   "metadata": {},
   "source": [
    "1. For the prediction model, use all rows of the dataset, but keep only the following columns: `view_count, channel, upload_date, duration, average_rating, height, width`."
   ]
  },
  {
   "cell_type": "code",
   "execution_count": 251,
   "metadata": {},
   "outputs": [
    {
     "data": {
      "text/html": [
       "<div>\n",
       "<style scoped>\n",
       "    .dataframe tbody tr th:only-of-type {\n",
       "        vertical-align: middle;\n",
       "    }\n",
       "\n",
       "    .dataframe tbody tr th {\n",
       "        vertical-align: top;\n",
       "    }\n",
       "\n",
       "    .dataframe thead th {\n",
       "        text-align: right;\n",
       "    }\n",
       "</style>\n",
       "<table border=\"1\" class=\"dataframe\">\n",
       "  <thead>\n",
       "    <tr style=\"text-align: right;\">\n",
       "      <th></th>\n",
       "      <th>view_count</th>\n",
       "      <th>channel</th>\n",
       "      <th>upload_date</th>\n",
       "      <th>duration</th>\n",
       "      <th>average_rating</th>\n",
       "      <th>height</th>\n",
       "      <th>width</th>\n",
       "    </tr>\n",
       "  </thead>\n",
       "  <tbody>\n",
       "    <tr>\n",
       "      <th>0</th>\n",
       "      <td>2541550.0</td>\n",
       "      <td>PewDiePie</td>\n",
       "      <td>2013-03-04</td>\n",
       "      <td>1126.0</td>\n",
       "      <td>4.886102</td>\n",
       "      <td>720.0</td>\n",
       "      <td>1280.0</td>\n",
       "    </tr>\n",
       "    <tr>\n",
       "      <th>1</th>\n",
       "      <td>1727646.0</td>\n",
       "      <td>PewDiePie</td>\n",
       "      <td>2013-03-04</td>\n",
       "      <td>903.0</td>\n",
       "      <td>4.951531</td>\n",
       "      <td>720.0</td>\n",
       "      <td>1280.0</td>\n",
       "    </tr>\n",
       "    <tr>\n",
       "      <th>2</th>\n",
       "      <td>1402747.0</td>\n",
       "      <td>PewDiePie</td>\n",
       "      <td>2013-03-04</td>\n",
       "      <td>806.0</td>\n",
       "      <td>4.962706</td>\n",
       "      <td>720.0</td>\n",
       "      <td>1280.0</td>\n",
       "    </tr>\n",
       "    <tr>\n",
       "      <th>3</th>\n",
       "      <td>4348296.0</td>\n",
       "      <td>PewDiePie</td>\n",
       "      <td>2013-03-03</td>\n",
       "      <td>909.0</td>\n",
       "      <td>4.937665</td>\n",
       "      <td>720.0</td>\n",
       "      <td>1280.0</td>\n",
       "    </tr>\n",
       "    <tr>\n",
       "      <th>4</th>\n",
       "      <td>1410659.0</td>\n",
       "      <td>PewDiePie</td>\n",
       "      <td>2013-03-03</td>\n",
       "      <td>834.0</td>\n",
       "      <td>4.957545</td>\n",
       "      <td>720.0</td>\n",
       "      <td>1280.0</td>\n",
       "    </tr>\n",
       "    <tr>\n",
       "      <th>...</th>\n",
       "      <td>...</td>\n",
       "      <td>...</td>\n",
       "      <td>...</td>\n",
       "      <td>...</td>\n",
       "      <td>...</td>\n",
       "      <td>...</td>\n",
       "      <td>...</td>\n",
       "    </tr>\n",
       "    <tr>\n",
       "      <th>139502</th>\n",
       "      <td>284147.0</td>\n",
       "      <td>cutepolish</td>\n",
       "      <td>2010-02-23</td>\n",
       "      <td>201.0</td>\n",
       "      <td>4.608439</td>\n",
       "      <td>480.0</td>\n",
       "      <td>640.0</td>\n",
       "    </tr>\n",
       "    <tr>\n",
       "      <th>139503</th>\n",
       "      <td>136278.0</td>\n",
       "      <td>cutepolish</td>\n",
       "      <td>2010-02-22</td>\n",
       "      <td>180.0</td>\n",
       "      <td>4.638451</td>\n",
       "      <td>480.0</td>\n",
       "      <td>640.0</td>\n",
       "    </tr>\n",
       "    <tr>\n",
       "      <th>139504</th>\n",
       "      <td>228384.0</td>\n",
       "      <td>cutepolish</td>\n",
       "      <td>2010-02-21</td>\n",
       "      <td>277.0</td>\n",
       "      <td>4.836411</td>\n",
       "      <td>480.0</td>\n",
       "      <td>640.0</td>\n",
       "    </tr>\n",
       "    <tr>\n",
       "      <th>139505</th>\n",
       "      <td>247053.0</td>\n",
       "      <td>cutepolish</td>\n",
       "      <td>2010-02-20</td>\n",
       "      <td>174.0</td>\n",
       "      <td>4.855700</td>\n",
       "      <td>480.0</td>\n",
       "      <td>640.0</td>\n",
       "    </tr>\n",
       "    <tr>\n",
       "      <th>139506</th>\n",
       "      <td>331964.0</td>\n",
       "      <td>cutepolish</td>\n",
       "      <td>2010-02-20</td>\n",
       "      <td>329.0</td>\n",
       "      <td>4.462126</td>\n",
       "      <td>480.0</td>\n",
       "      <td>640.0</td>\n",
       "    </tr>\n",
       "  </tbody>\n",
       "</table>\n",
       "<p>139507 rows × 7 columns</p>\n",
       "</div>"
      ],
      "text/plain": [
       "        view_count     channel upload_date  duration  average_rating  height  \\\n",
       "0        2541550.0   PewDiePie  2013-03-04    1126.0        4.886102   720.0   \n",
       "1        1727646.0   PewDiePie  2013-03-04     903.0        4.951531   720.0   \n",
       "2        1402747.0   PewDiePie  2013-03-04     806.0        4.962706   720.0   \n",
       "3        4348296.0   PewDiePie  2013-03-03     909.0        4.937665   720.0   \n",
       "4        1410659.0   PewDiePie  2013-03-03     834.0        4.957545   720.0   \n",
       "...            ...         ...         ...       ...             ...     ...   \n",
       "139502    284147.0  cutepolish  2010-02-23     201.0        4.608439   480.0   \n",
       "139503    136278.0  cutepolish  2010-02-22     180.0        4.638451   480.0   \n",
       "139504    228384.0  cutepolish  2010-02-21     277.0        4.836411   480.0   \n",
       "139505    247053.0  cutepolish  2010-02-20     174.0        4.855700   480.0   \n",
       "139506    331964.0  cutepolish  2010-02-20     329.0        4.462126   480.0   \n",
       "\n",
       "         width  \n",
       "0       1280.0  \n",
       "1       1280.0  \n",
       "2       1280.0  \n",
       "3       1280.0  \n",
       "4       1280.0  \n",
       "...        ...  \n",
       "139502   640.0  \n",
       "139503   640.0  \n",
       "139504   640.0  \n",
       "139505   640.0  \n",
       "139506   640.0  \n",
       "\n",
       "[139507 rows x 7 columns]"
      ]
     },
     "execution_count": 251,
     "metadata": {},
     "output_type": "execute_result"
    }
   ],
   "source": [
    "youtube = pd.read_csv('data/youtube.csv.gz', compression='gzip')\n",
    "youtube.upload_date = pd.to_datetime(youtube.upload_date)\n",
    "youtube = youtube[['view_count', 'channel', 'upload_date', 'duration', 'average_rating', 'height', 'width']]\n",
    "youtube"
   ]
  },
  {
   "cell_type": "markdown",
   "metadata": {},
   "source": [
    "2. Extract the upload year and upload month from the `upload_date` column into the two columns `upload_year` and `upload_month`, and remove `upload_date`."
   ]
  },
  {
   "cell_type": "code",
   "execution_count": 252,
   "metadata": {},
   "outputs": [
    {
     "data": {
      "text/html": [
       "<div>\n",
       "<style scoped>\n",
       "    .dataframe tbody tr th:only-of-type {\n",
       "        vertical-align: middle;\n",
       "    }\n",
       "\n",
       "    .dataframe tbody tr th {\n",
       "        vertical-align: top;\n",
       "    }\n",
       "\n",
       "    .dataframe thead th {\n",
       "        text-align: right;\n",
       "    }\n",
       "</style>\n",
       "<table border=\"1\" class=\"dataframe\">\n",
       "  <thead>\n",
       "    <tr style=\"text-align: right;\">\n",
       "      <th></th>\n",
       "      <th>view_count</th>\n",
       "      <th>channel</th>\n",
       "      <th>duration</th>\n",
       "      <th>average_rating</th>\n",
       "      <th>height</th>\n",
       "      <th>width</th>\n",
       "      <th>upload_month</th>\n",
       "      <th>upload_year</th>\n",
       "    </tr>\n",
       "  </thead>\n",
       "  <tbody>\n",
       "    <tr>\n",
       "      <th>0</th>\n",
       "      <td>2541550.0</td>\n",
       "      <td>PewDiePie</td>\n",
       "      <td>1126.0</td>\n",
       "      <td>4.886102</td>\n",
       "      <td>720.0</td>\n",
       "      <td>1280.0</td>\n",
       "      <td>3</td>\n",
       "      <td>2013</td>\n",
       "    </tr>\n",
       "    <tr>\n",
       "      <th>1</th>\n",
       "      <td>1727646.0</td>\n",
       "      <td>PewDiePie</td>\n",
       "      <td>903.0</td>\n",
       "      <td>4.951531</td>\n",
       "      <td>720.0</td>\n",
       "      <td>1280.0</td>\n",
       "      <td>3</td>\n",
       "      <td>2013</td>\n",
       "    </tr>\n",
       "    <tr>\n",
       "      <th>2</th>\n",
       "      <td>1402747.0</td>\n",
       "      <td>PewDiePie</td>\n",
       "      <td>806.0</td>\n",
       "      <td>4.962706</td>\n",
       "      <td>720.0</td>\n",
       "      <td>1280.0</td>\n",
       "      <td>3</td>\n",
       "      <td>2013</td>\n",
       "    </tr>\n",
       "    <tr>\n",
       "      <th>3</th>\n",
       "      <td>4348296.0</td>\n",
       "      <td>PewDiePie</td>\n",
       "      <td>909.0</td>\n",
       "      <td>4.937665</td>\n",
       "      <td>720.0</td>\n",
       "      <td>1280.0</td>\n",
       "      <td>3</td>\n",
       "      <td>2013</td>\n",
       "    </tr>\n",
       "    <tr>\n",
       "      <th>4</th>\n",
       "      <td>1410659.0</td>\n",
       "      <td>PewDiePie</td>\n",
       "      <td>834.0</td>\n",
       "      <td>4.957545</td>\n",
       "      <td>720.0</td>\n",
       "      <td>1280.0</td>\n",
       "      <td>3</td>\n",
       "      <td>2013</td>\n",
       "    </tr>\n",
       "    <tr>\n",
       "      <th>...</th>\n",
       "      <td>...</td>\n",
       "      <td>...</td>\n",
       "      <td>...</td>\n",
       "      <td>...</td>\n",
       "      <td>...</td>\n",
       "      <td>...</td>\n",
       "      <td>...</td>\n",
       "      <td>...</td>\n",
       "    </tr>\n",
       "    <tr>\n",
       "      <th>139502</th>\n",
       "      <td>284147.0</td>\n",
       "      <td>cutepolish</td>\n",
       "      <td>201.0</td>\n",
       "      <td>4.608439</td>\n",
       "      <td>480.0</td>\n",
       "      <td>640.0</td>\n",
       "      <td>2</td>\n",
       "      <td>2010</td>\n",
       "    </tr>\n",
       "    <tr>\n",
       "      <th>139503</th>\n",
       "      <td>136278.0</td>\n",
       "      <td>cutepolish</td>\n",
       "      <td>180.0</td>\n",
       "      <td>4.638451</td>\n",
       "      <td>480.0</td>\n",
       "      <td>640.0</td>\n",
       "      <td>2</td>\n",
       "      <td>2010</td>\n",
       "    </tr>\n",
       "    <tr>\n",
       "      <th>139504</th>\n",
       "      <td>228384.0</td>\n",
       "      <td>cutepolish</td>\n",
       "      <td>277.0</td>\n",
       "      <td>4.836411</td>\n",
       "      <td>480.0</td>\n",
       "      <td>640.0</td>\n",
       "      <td>2</td>\n",
       "      <td>2010</td>\n",
       "    </tr>\n",
       "    <tr>\n",
       "      <th>139505</th>\n",
       "      <td>247053.0</td>\n",
       "      <td>cutepolish</td>\n",
       "      <td>174.0</td>\n",
       "      <td>4.855700</td>\n",
       "      <td>480.0</td>\n",
       "      <td>640.0</td>\n",
       "      <td>2</td>\n",
       "      <td>2010</td>\n",
       "    </tr>\n",
       "    <tr>\n",
       "      <th>139506</th>\n",
       "      <td>331964.0</td>\n",
       "      <td>cutepolish</td>\n",
       "      <td>329.0</td>\n",
       "      <td>4.462126</td>\n",
       "      <td>480.0</td>\n",
       "      <td>640.0</td>\n",
       "      <td>2</td>\n",
       "      <td>2010</td>\n",
       "    </tr>\n",
       "  </tbody>\n",
       "</table>\n",
       "<p>139507 rows × 8 columns</p>\n",
       "</div>"
      ],
      "text/plain": [
       "        view_count     channel  duration  average_rating  height   width  \\\n",
       "0        2541550.0   PewDiePie    1126.0        4.886102   720.0  1280.0   \n",
       "1        1727646.0   PewDiePie     903.0        4.951531   720.0  1280.0   \n",
       "2        1402747.0   PewDiePie     806.0        4.962706   720.0  1280.0   \n",
       "3        4348296.0   PewDiePie     909.0        4.937665   720.0  1280.0   \n",
       "4        1410659.0   PewDiePie     834.0        4.957545   720.0  1280.0   \n",
       "...            ...         ...       ...             ...     ...     ...   \n",
       "139502    284147.0  cutepolish     201.0        4.608439   480.0   640.0   \n",
       "139503    136278.0  cutepolish     180.0        4.638451   480.0   640.0   \n",
       "139504    228384.0  cutepolish     277.0        4.836411   480.0   640.0   \n",
       "139505    247053.0  cutepolish     174.0        4.855700   480.0   640.0   \n",
       "139506    331964.0  cutepolish     329.0        4.462126   480.0   640.0   \n",
       "\n",
       "        upload_month  upload_year  \n",
       "0                  3         2013  \n",
       "1                  3         2013  \n",
       "2                  3         2013  \n",
       "3                  3         2013  \n",
       "4                  3         2013  \n",
       "...              ...          ...  \n",
       "139502             2         2010  \n",
       "139503             2         2010  \n",
       "139504             2         2010  \n",
       "139505             2         2010  \n",
       "139506             2         2010  \n",
       "\n",
       "[139507 rows x 8 columns]"
      ]
     },
     "execution_count": 252,
     "metadata": {},
     "output_type": "execute_result"
    }
   ],
   "source": [
    "youtube['upload_month'] = youtube['upload_date'].apply(lambda x: x.month)\n",
    "youtube['upload_year'] = youtube['upload_date'].apply(lambda x: x.year)\n",
    "youtube = youtube.drop(['upload_date'], axis=1)\n",
    "youtube"
   ]
  },
  {
   "cell_type": "markdown",
   "metadata": {},
   "source": [
    "3. The entry in the channel column for a video indicates on which channel the video was uploaded. Encode this column via one-hot encoding."
   ]
  },
  {
   "cell_type": "code",
   "execution_count": 204,
   "metadata": {},
   "outputs": [],
   "source": [
    "features = youtube.columns.drop('view_count')\n",
    "X = pd.get_dummies(youtube[features])\n",
    "y = youtube['view_count']"
   ]
  },
  {
   "cell_type": "markdown",
   "metadata": {},
   "source": [
    "4. Split the data into a train (70%) and a test set (30%) with the appropriate function from sklearn, using 42 as the random seed."
   ]
  },
  {
   "cell_type": "code",
   "execution_count": 206,
   "metadata": {},
   "outputs": [],
   "source": [
    "from sklearn.model_selection import train_test_split\n",
    "X_train, X_test, y_train, y_test = train_test_split(X, y, test_size=0.3, random_state=42)"
   ]
  },
  {
   "cell_type": "markdown",
   "metadata": {},
   "source": [
    "## B2: Who is the most viewed of them all?"
   ]
  },
  {
   "cell_type": "markdown",
   "metadata": {},
   "source": [
    "1. Train a ridge regression model (i.e., an L2-regularized linear regression model) on the train set that predicts the view count from the other features. Find and use the optimal regularization parameter $\\alpha$ from the set {0.001, 0.01, 0.1} via 3-fold cross validation."
   ]
  },
  {
   "cell_type": "code",
   "execution_count": 209,
   "metadata": {},
   "outputs": [
    {
     "data": {
      "text/html": [
       "<style>#sk-container-id-1 {color: black;}#sk-container-id-1 pre{padding: 0;}#sk-container-id-1 div.sk-toggleable {background-color: white;}#sk-container-id-1 label.sk-toggleable__label {cursor: pointer;display: block;width: 100%;margin-bottom: 0;padding: 0.3em;box-sizing: border-box;text-align: center;}#sk-container-id-1 label.sk-toggleable__label-arrow:before {content: \"▸\";float: left;margin-right: 0.25em;color: #696969;}#sk-container-id-1 label.sk-toggleable__label-arrow:hover:before {color: black;}#sk-container-id-1 div.sk-estimator:hover label.sk-toggleable__label-arrow:before {color: black;}#sk-container-id-1 div.sk-toggleable__content {max-height: 0;max-width: 0;overflow: hidden;text-align: left;background-color: #f0f8ff;}#sk-container-id-1 div.sk-toggleable__content pre {margin: 0.2em;color: black;border-radius: 0.25em;background-color: #f0f8ff;}#sk-container-id-1 input.sk-toggleable__control:checked~div.sk-toggleable__content {max-height: 200px;max-width: 100%;overflow: auto;}#sk-container-id-1 input.sk-toggleable__control:checked~label.sk-toggleable__label-arrow:before {content: \"▾\";}#sk-container-id-1 div.sk-estimator input.sk-toggleable__control:checked~label.sk-toggleable__label {background-color: #d4ebff;}#sk-container-id-1 div.sk-label input.sk-toggleable__control:checked~label.sk-toggleable__label {background-color: #d4ebff;}#sk-container-id-1 input.sk-hidden--visually {border: 0;clip: rect(1px 1px 1px 1px);clip: rect(1px, 1px, 1px, 1px);height: 1px;margin: -1px;overflow: hidden;padding: 0;position: absolute;width: 1px;}#sk-container-id-1 div.sk-estimator {font-family: monospace;background-color: #f0f8ff;border: 1px dotted black;border-radius: 0.25em;box-sizing: border-box;margin-bottom: 0.5em;}#sk-container-id-1 div.sk-estimator:hover {background-color: #d4ebff;}#sk-container-id-1 div.sk-parallel-item::after {content: \"\";width: 100%;border-bottom: 1px solid gray;flex-grow: 1;}#sk-container-id-1 div.sk-label:hover label.sk-toggleable__label {background-color: #d4ebff;}#sk-container-id-1 div.sk-serial::before {content: \"\";position: absolute;border-left: 1px solid gray;box-sizing: border-box;top: 0;bottom: 0;left: 50%;z-index: 0;}#sk-container-id-1 div.sk-serial {display: flex;flex-direction: column;align-items: center;background-color: white;padding-right: 0.2em;padding-left: 0.2em;position: relative;}#sk-container-id-1 div.sk-item {position: relative;z-index: 1;}#sk-container-id-1 div.sk-parallel {display: flex;align-items: stretch;justify-content: center;background-color: white;position: relative;}#sk-container-id-1 div.sk-item::before, #sk-container-id-1 div.sk-parallel-item::before {content: \"\";position: absolute;border-left: 1px solid gray;box-sizing: border-box;top: 0;bottom: 0;left: 50%;z-index: -1;}#sk-container-id-1 div.sk-parallel-item {display: flex;flex-direction: column;z-index: 1;position: relative;background-color: white;}#sk-container-id-1 div.sk-parallel-item:first-child::after {align-self: flex-end;width: 50%;}#sk-container-id-1 div.sk-parallel-item:last-child::after {align-self: flex-start;width: 50%;}#sk-container-id-1 div.sk-parallel-item:only-child::after {width: 0;}#sk-container-id-1 div.sk-dashed-wrapped {border: 1px dashed gray;margin: 0 0.4em 0.5em 0.4em;box-sizing: border-box;padding-bottom: 0.4em;background-color: white;}#sk-container-id-1 div.sk-label label {font-family: monospace;font-weight: bold;display: inline-block;line-height: 1.2em;}#sk-container-id-1 div.sk-label-container {text-align: center;}#sk-container-id-1 div.sk-container {/* jupyter's `normalize.less` sets `[hidden] { display: none; }` but bootstrap.min.css set `[hidden] { display: none !important; }` so we also need the `!important` here to be able to override the default hidden behavior on the sphinx rendered scikit-learn.org. See: https://github.com/scikit-learn/scikit-learn/issues/21755 */display: inline-block !important;position: relative;}#sk-container-id-1 div.sk-text-repr-fallback {display: none;}</style><div id=\"sk-container-id-1\" class=\"sk-top-container\"><div class=\"sk-text-repr-fallback\"><pre>GridSearchCV(cv=3, estimator=Ridge(), param_grid={&#x27;alpha&#x27;: (0.001, 0.01, 0.1)})</pre><b>In a Jupyter environment, please rerun this cell to show the HTML representation or trust the notebook. <br />On GitHub, the HTML representation is unable to render, please try loading this page with nbviewer.org.</b></div><div class=\"sk-container\" hidden><div class=\"sk-item sk-dashed-wrapped\"><div class=\"sk-label-container\"><div class=\"sk-label sk-toggleable\"><input class=\"sk-toggleable__control sk-hidden--visually\" id=\"sk-estimator-id-1\" type=\"checkbox\" ><label for=\"sk-estimator-id-1\" class=\"sk-toggleable__label sk-toggleable__label-arrow\">GridSearchCV</label><div class=\"sk-toggleable__content\"><pre>GridSearchCV(cv=3, estimator=Ridge(), param_grid={&#x27;alpha&#x27;: (0.001, 0.01, 0.1)})</pre></div></div></div><div class=\"sk-parallel\"><div class=\"sk-parallel-item\"><div class=\"sk-item\"><div class=\"sk-label-container\"><div class=\"sk-label sk-toggleable\"><input class=\"sk-toggleable__control sk-hidden--visually\" id=\"sk-estimator-id-2\" type=\"checkbox\" ><label for=\"sk-estimator-id-2\" class=\"sk-toggleable__label sk-toggleable__label-arrow\">estimator: Ridge</label><div class=\"sk-toggleable__content\"><pre>Ridge()</pre></div></div></div><div class=\"sk-serial\"><div class=\"sk-item\"><div class=\"sk-estimator sk-toggleable\"><input class=\"sk-toggleable__control sk-hidden--visually\" id=\"sk-estimator-id-3\" type=\"checkbox\" ><label for=\"sk-estimator-id-3\" class=\"sk-toggleable__label sk-toggleable__label-arrow\">Ridge</label><div class=\"sk-toggleable__content\"><pre>Ridge()</pre></div></div></div></div></div></div></div></div></div></div>"
      ],
      "text/plain": [
       "GridSearchCV(cv=3, estimator=Ridge(), param_grid={'alpha': (0.001, 0.01, 0.1)})"
      ]
     },
     "execution_count": 209,
     "metadata": {},
     "output_type": "execute_result"
    }
   ],
   "source": [
    "from sklearn.model_selection import GridSearchCV\n",
    "from sklearn.linear_model import Ridge\n",
    "\n",
    "ridge = Ridge()\n",
    "ridge_hyper = {'alpha':(0.001, 0.01, 0.1)}\n",
    "ridge_cv = GridSearchCV(ridge, ridge_hyper, cv=3)\n",
    "ridge_cv.fit(X_train, y_train)\n"
   ]
  },
  {
   "cell_type": "markdown",
   "metadata": {},
   "source": [
    "2. Report the mean absolute error that the model makes on the test set."
   ]
  },
  {
   "cell_type": "code",
   "execution_count": 210,
   "metadata": {},
   "outputs": [
    {
     "name": "stdout",
     "output_type": "stream",
     "text": [
      "1444649.5039951634\n"
     ]
    }
   ],
   "source": [
    "from sklearn.metrics import mean_absolute_error\n",
    "print(mean_absolute_error(y_true=y_test, y_pred=ridge_cv.predict(X_test)))"
   ]
  },
  {
   "cell_type": "markdown",
   "metadata": {},
   "source": [
    "## B3: Checking our ambitions"
   ]
  },
  {
   "cell_type": "markdown",
   "metadata": {},
   "source": [
    "To improve performance, you want to make the task of the ML model easier and turn it into a classification task. Now it only has to predict whether a video has a high view count (defined as being larger than the median of the view counts in the training set) or a low view count (defined as being smaller or equal to the median of the view counts in the training set)."
   ]
  },
  {
   "cell_type": "markdown",
   "metadata": {},
   "source": [
    "1. Train a logistic regression model for this classification task. Find and use the optimal regularization parameter C (as defined in scikit-learn's documentation) from the set {1, 10, 100} via 3-fold cross validation. Use the random seed 42. _Hint_: If you get a warning about the training algorithm failing to converge, increase the maximum number of training iterations."
   ]
  },
  {
   "cell_type": "code",
   "execution_count": 253,
   "metadata": {},
   "outputs": [
    {
     "data": {
      "text/html": [
       "<style>#sk-container-id-5 {color: black;}#sk-container-id-5 pre{padding: 0;}#sk-container-id-5 div.sk-toggleable {background-color: white;}#sk-container-id-5 label.sk-toggleable__label {cursor: pointer;display: block;width: 100%;margin-bottom: 0;padding: 0.3em;box-sizing: border-box;text-align: center;}#sk-container-id-5 label.sk-toggleable__label-arrow:before {content: \"▸\";float: left;margin-right: 0.25em;color: #696969;}#sk-container-id-5 label.sk-toggleable__label-arrow:hover:before {color: black;}#sk-container-id-5 div.sk-estimator:hover label.sk-toggleable__label-arrow:before {color: black;}#sk-container-id-5 div.sk-toggleable__content {max-height: 0;max-width: 0;overflow: hidden;text-align: left;background-color: #f0f8ff;}#sk-container-id-5 div.sk-toggleable__content pre {margin: 0.2em;color: black;border-radius: 0.25em;background-color: #f0f8ff;}#sk-container-id-5 input.sk-toggleable__control:checked~div.sk-toggleable__content {max-height: 200px;max-width: 100%;overflow: auto;}#sk-container-id-5 input.sk-toggleable__control:checked~label.sk-toggleable__label-arrow:before {content: \"▾\";}#sk-container-id-5 div.sk-estimator input.sk-toggleable__control:checked~label.sk-toggleable__label {background-color: #d4ebff;}#sk-container-id-5 div.sk-label input.sk-toggleable__control:checked~label.sk-toggleable__label {background-color: #d4ebff;}#sk-container-id-5 input.sk-hidden--visually {border: 0;clip: rect(1px 1px 1px 1px);clip: rect(1px, 1px, 1px, 1px);height: 1px;margin: -1px;overflow: hidden;padding: 0;position: absolute;width: 1px;}#sk-container-id-5 div.sk-estimator {font-family: monospace;background-color: #f0f8ff;border: 1px dotted black;border-radius: 0.25em;box-sizing: border-box;margin-bottom: 0.5em;}#sk-container-id-5 div.sk-estimator:hover {background-color: #d4ebff;}#sk-container-id-5 div.sk-parallel-item::after {content: \"\";width: 100%;border-bottom: 1px solid gray;flex-grow: 1;}#sk-container-id-5 div.sk-label:hover label.sk-toggleable__label {background-color: #d4ebff;}#sk-container-id-5 div.sk-serial::before {content: \"\";position: absolute;border-left: 1px solid gray;box-sizing: border-box;top: 0;bottom: 0;left: 50%;z-index: 0;}#sk-container-id-5 div.sk-serial {display: flex;flex-direction: column;align-items: center;background-color: white;padding-right: 0.2em;padding-left: 0.2em;position: relative;}#sk-container-id-5 div.sk-item {position: relative;z-index: 1;}#sk-container-id-5 div.sk-parallel {display: flex;align-items: stretch;justify-content: center;background-color: white;position: relative;}#sk-container-id-5 div.sk-item::before, #sk-container-id-5 div.sk-parallel-item::before {content: \"\";position: absolute;border-left: 1px solid gray;box-sizing: border-box;top: 0;bottom: 0;left: 50%;z-index: -1;}#sk-container-id-5 div.sk-parallel-item {display: flex;flex-direction: column;z-index: 1;position: relative;background-color: white;}#sk-container-id-5 div.sk-parallel-item:first-child::after {align-self: flex-end;width: 50%;}#sk-container-id-5 div.sk-parallel-item:last-child::after {align-self: flex-start;width: 50%;}#sk-container-id-5 div.sk-parallel-item:only-child::after {width: 0;}#sk-container-id-5 div.sk-dashed-wrapped {border: 1px dashed gray;margin: 0 0.4em 0.5em 0.4em;box-sizing: border-box;padding-bottom: 0.4em;background-color: white;}#sk-container-id-5 div.sk-label label {font-family: monospace;font-weight: bold;display: inline-block;line-height: 1.2em;}#sk-container-id-5 div.sk-label-container {text-align: center;}#sk-container-id-5 div.sk-container {/* jupyter's `normalize.less` sets `[hidden] { display: none; }` but bootstrap.min.css set `[hidden] { display: none !important; }` so we also need the `!important` here to be able to override the default hidden behavior on the sphinx rendered scikit-learn.org. See: https://github.com/scikit-learn/scikit-learn/issues/21755 */display: inline-block !important;position: relative;}#sk-container-id-5 div.sk-text-repr-fallback {display: none;}</style><div id=\"sk-container-id-5\" class=\"sk-top-container\"><div class=\"sk-text-repr-fallback\"><pre>LogisticRegressionCV(Cs=[1, 10, 100], cv=3, max_iter=200, random_state=42)</pre><b>In a Jupyter environment, please rerun this cell to show the HTML representation or trust the notebook. <br />On GitHub, the HTML representation is unable to render, please try loading this page with nbviewer.org.</b></div><div class=\"sk-container\" hidden><div class=\"sk-item\"><div class=\"sk-estimator sk-toggleable\"><input class=\"sk-toggleable__control sk-hidden--visually\" id=\"sk-estimator-id-7\" type=\"checkbox\" checked><label for=\"sk-estimator-id-7\" class=\"sk-toggleable__label sk-toggleable__label-arrow\">LogisticRegressionCV</label><div class=\"sk-toggleable__content\"><pre>LogisticRegressionCV(Cs=[1, 10, 100], cv=3, max_iter=200, random_state=42)</pre></div></div></div></div></div>"
      ],
      "text/plain": [
       "LogisticRegressionCV(Cs=[1, 10, 100], cv=3, max_iter=200, random_state=42)"
      ]
     },
     "execution_count": 253,
     "metadata": {},
     "output_type": "execute_result"
    }
   ],
   "source": [
    "median = youtube['view_count'].median()\n",
    "median\n",
    "\n",
    "youtube['High_view_count'] = youtube['view_count'].apply(lambda x: True if x > median else False)\n",
    "youtube.drop(columns='view_count')\n",
    "features = youtube.columns.drop('High_view_count')\n",
    "X = pd.get_dummies(youtube[features]).astype(float)\n",
    "y = youtube['High_view_count'].astype(int)\n",
    "\n",
    "X_train, X_test, y_train, y_test = train_test_split(X, y, test_size=0.3, random_state=42)\n",
    "\n",
    "from sklearn.linear_model import LogisticRegressionCV\n",
    "C = [1, 10, 100]\n",
    "logistic_cv = LogisticRegressionCV(Cs=C, cv=3, random_state=42, max_iter=200)\n",
    "logistic_cv.fit(X_train, y_train)"
   ]
  },
  {
   "cell_type": "markdown",
   "metadata": {},
   "source": [
    "2. Compute the accuracy of the logistic regression model on the test set."
   ]
  },
  {
   "cell_type": "code",
   "execution_count": 254,
   "metadata": {},
   "outputs": [
    {
     "name": "stdout",
     "output_type": "stream",
     "text": [
      "Accuracy: 0.9999044274006642\n"
     ]
    }
   ],
   "source": [
    "from sklearn.metrics import accuracy_score\n",
    "print(\"Accuracy:\", accuracy_score(y_true=y_test, y_pred=logistic_cv.predict(X_test)))"
   ]
  },
  {
   "cell_type": "markdown",
   "metadata": {},
   "source": [
    "## B4: ...something's not right."
   ]
  },
  {
   "cell_type": "markdown",
   "metadata": {},
   "source": [
    "You are satisfied with the model performance. In fact, you are a bit surprised at how good the model is given the relatively little amount of information about the videos. So you take a closer look at the features and realize that the (one-hot-encoded) channel feature does not make sense for the application that your friend has in mind."
   ]
  },
  {
   "cell_type": "markdown",
   "metadata": {},
   "source": [
    "1. Why does the channel feature not make sense?"
   ]
  },
  {
   "cell_type": "code",
   "execution_count": 255,
   "metadata": {},
   "outputs": [],
   "source": [
    "# The channel of your friend is not one-hot encoding as it is not open yet so they cannot predict the amount of view that it will have"
   ]
  },
  {
   "cell_type": "markdown",
   "metadata": {},
   "source": [
    "2. Train another logistic regression model with all the features from B3 except the one-hot-encoded channel. Use again 42 as the seed for the train test split and perform the same hyperparameter optimization as in B3. How does the model performance change?"
   ]
  },
  {
   "cell_type": "code",
   "execution_count": 258,
   "metadata": {},
   "outputs": [
    {
     "data": {
      "text/html": [
       "<style>#sk-container-id-6 {color: black;}#sk-container-id-6 pre{padding: 0;}#sk-container-id-6 div.sk-toggleable {background-color: white;}#sk-container-id-6 label.sk-toggleable__label {cursor: pointer;display: block;width: 100%;margin-bottom: 0;padding: 0.3em;box-sizing: border-box;text-align: center;}#sk-container-id-6 label.sk-toggleable__label-arrow:before {content: \"▸\";float: left;margin-right: 0.25em;color: #696969;}#sk-container-id-6 label.sk-toggleable__label-arrow:hover:before {color: black;}#sk-container-id-6 div.sk-estimator:hover label.sk-toggleable__label-arrow:before {color: black;}#sk-container-id-6 div.sk-toggleable__content {max-height: 0;max-width: 0;overflow: hidden;text-align: left;background-color: #f0f8ff;}#sk-container-id-6 div.sk-toggleable__content pre {margin: 0.2em;color: black;border-radius: 0.25em;background-color: #f0f8ff;}#sk-container-id-6 input.sk-toggleable__control:checked~div.sk-toggleable__content {max-height: 200px;max-width: 100%;overflow: auto;}#sk-container-id-6 input.sk-toggleable__control:checked~label.sk-toggleable__label-arrow:before {content: \"▾\";}#sk-container-id-6 div.sk-estimator input.sk-toggleable__control:checked~label.sk-toggleable__label {background-color: #d4ebff;}#sk-container-id-6 div.sk-label input.sk-toggleable__control:checked~label.sk-toggleable__label {background-color: #d4ebff;}#sk-container-id-6 input.sk-hidden--visually {border: 0;clip: rect(1px 1px 1px 1px);clip: rect(1px, 1px, 1px, 1px);height: 1px;margin: -1px;overflow: hidden;padding: 0;position: absolute;width: 1px;}#sk-container-id-6 div.sk-estimator {font-family: monospace;background-color: #f0f8ff;border: 1px dotted black;border-radius: 0.25em;box-sizing: border-box;margin-bottom: 0.5em;}#sk-container-id-6 div.sk-estimator:hover {background-color: #d4ebff;}#sk-container-id-6 div.sk-parallel-item::after {content: \"\";width: 100%;border-bottom: 1px solid gray;flex-grow: 1;}#sk-container-id-6 div.sk-label:hover label.sk-toggleable__label {background-color: #d4ebff;}#sk-container-id-6 div.sk-serial::before {content: \"\";position: absolute;border-left: 1px solid gray;box-sizing: border-box;top: 0;bottom: 0;left: 50%;z-index: 0;}#sk-container-id-6 div.sk-serial {display: flex;flex-direction: column;align-items: center;background-color: white;padding-right: 0.2em;padding-left: 0.2em;position: relative;}#sk-container-id-6 div.sk-item {position: relative;z-index: 1;}#sk-container-id-6 div.sk-parallel {display: flex;align-items: stretch;justify-content: center;background-color: white;position: relative;}#sk-container-id-6 div.sk-item::before, #sk-container-id-6 div.sk-parallel-item::before {content: \"\";position: absolute;border-left: 1px solid gray;box-sizing: border-box;top: 0;bottom: 0;left: 50%;z-index: -1;}#sk-container-id-6 div.sk-parallel-item {display: flex;flex-direction: column;z-index: 1;position: relative;background-color: white;}#sk-container-id-6 div.sk-parallel-item:first-child::after {align-self: flex-end;width: 50%;}#sk-container-id-6 div.sk-parallel-item:last-child::after {align-self: flex-start;width: 50%;}#sk-container-id-6 div.sk-parallel-item:only-child::after {width: 0;}#sk-container-id-6 div.sk-dashed-wrapped {border: 1px dashed gray;margin: 0 0.4em 0.5em 0.4em;box-sizing: border-box;padding-bottom: 0.4em;background-color: white;}#sk-container-id-6 div.sk-label label {font-family: monospace;font-weight: bold;display: inline-block;line-height: 1.2em;}#sk-container-id-6 div.sk-label-container {text-align: center;}#sk-container-id-6 div.sk-container {/* jupyter's `normalize.less` sets `[hidden] { display: none; }` but bootstrap.min.css set `[hidden] { display: none !important; }` so we also need the `!important` here to be able to override the default hidden behavior on the sphinx rendered scikit-learn.org. See: https://github.com/scikit-learn/scikit-learn/issues/21755 */display: inline-block !important;position: relative;}#sk-container-id-6 div.sk-text-repr-fallback {display: none;}</style><div id=\"sk-container-id-6\" class=\"sk-top-container\"><div class=\"sk-text-repr-fallback\"><pre>LogisticRegressionCV(Cs=[1, 10, 100], cv=3, max_iter=200, random_state=42)</pre><b>In a Jupyter environment, please rerun this cell to show the HTML representation or trust the notebook. <br />On GitHub, the HTML representation is unable to render, please try loading this page with nbviewer.org.</b></div><div class=\"sk-container\" hidden><div class=\"sk-item\"><div class=\"sk-estimator sk-toggleable\"><input class=\"sk-toggleable__control sk-hidden--visually\" id=\"sk-estimator-id-8\" type=\"checkbox\" checked><label for=\"sk-estimator-id-8\" class=\"sk-toggleable__label sk-toggleable__label-arrow\">LogisticRegressionCV</label><div class=\"sk-toggleable__content\"><pre>LogisticRegressionCV(Cs=[1, 10, 100], cv=3, max_iter=200, random_state=42)</pre></div></div></div></div></div>"
      ],
      "text/plain": [
       "LogisticRegressionCV(Cs=[1, 10, 100], cv=3, max_iter=200, random_state=42)"
      ]
     },
     "execution_count": 258,
     "metadata": {},
     "output_type": "execute_result"
    }
   ],
   "source": [
    "youtube = pd.read_csv('data/youtube.csv.gz', compression='gzip')\n",
    "youtube.upload_date = pd.to_datetime(youtube.upload_date)\n",
    "youtube = youtube[['view_count', 'upload_date', 'duration', 'average_rating', 'height', 'width']]\n",
    "\n",
    "youtube['upload_month'] = youtube['upload_date'].apply(lambda x: x.month)\n",
    "youtube['upload_year'] = youtube['upload_date'].apply(lambda x: x.year)\n",
    "youtube = youtube.drop(['upload_date'], axis=1)\n",
    "\n",
    "youtube['High_view_count'] = youtube['view_count'].apply(lambda x: True if x > median else False)\n",
    "youtube.drop(columns='view_count')\n",
    "X = youtube[['upload_month', 'upload_year', 'duration', 'average_rating', 'height', 'width']]\n",
    "y = youtube['High_view_count'].astype(int)\n",
    "\n",
    "X_train, X_test, y_train, y_test = train_test_split(X, y, test_size=0.3, random_state=42)\n",
    "\n",
    "from sklearn.linear_model import LogisticRegressionCV\n",
    "C = [1, 10, 100]\n",
    "logistic_cv = LogisticRegressionCV(Cs=C, cv=3, random_state=42, max_iter=200)\n",
    "logistic_cv.fit(X_train, y_train)"
   ]
  },
  {
   "cell_type": "code",
   "execution_count": 259,
   "metadata": {},
   "outputs": [
    {
     "name": "stdout",
     "output_type": "stream",
     "text": [
      "Accuracy: 0.6103505125080639\n"
     ]
    }
   ],
   "source": [
    "from sklearn.metrics import accuracy_score\n",
    "print(\"Accuracy:\", accuracy_score(y_true=y_test, y_pred=logistic_cv.predict(X_test)))"
   ]
  },
  {
   "cell_type": "markdown",
   "metadata": {},
   "source": [
    "The model performance droped"
   ]
  },
  {
   "cell_type": "markdown",
   "metadata": {},
   "source": [
    "## B5: \"We kinda forgot about categories.\""
   ]
  },
  {
   "cell_type": "markdown",
   "metadata": {},
   "source": [
    "On second thought, there is actually one feature that you may use about the channel. Namely, the channel category. The reason this one makes sense might also help you answer B4.1."
   ]
  },
  {
   "cell_type": "markdown",
   "metadata": {},
   "source": [
    "1. Train and evaluate another logistic regression model (in the same way as in B4 regarding train/test split and hyperparameter) that additionally includes the one-hot-encoded channel category."
   ]
  },
  {
   "cell_type": "code",
   "execution_count": 260,
   "metadata": {},
   "outputs": [
    {
     "data": {
      "text/html": [
       "<style>#sk-container-id-7 {color: black;}#sk-container-id-7 pre{padding: 0;}#sk-container-id-7 div.sk-toggleable {background-color: white;}#sk-container-id-7 label.sk-toggleable__label {cursor: pointer;display: block;width: 100%;margin-bottom: 0;padding: 0.3em;box-sizing: border-box;text-align: center;}#sk-container-id-7 label.sk-toggleable__label-arrow:before {content: \"▸\";float: left;margin-right: 0.25em;color: #696969;}#sk-container-id-7 label.sk-toggleable__label-arrow:hover:before {color: black;}#sk-container-id-7 div.sk-estimator:hover label.sk-toggleable__label-arrow:before {color: black;}#sk-container-id-7 div.sk-toggleable__content {max-height: 0;max-width: 0;overflow: hidden;text-align: left;background-color: #f0f8ff;}#sk-container-id-7 div.sk-toggleable__content pre {margin: 0.2em;color: black;border-radius: 0.25em;background-color: #f0f8ff;}#sk-container-id-7 input.sk-toggleable__control:checked~div.sk-toggleable__content {max-height: 200px;max-width: 100%;overflow: auto;}#sk-container-id-7 input.sk-toggleable__control:checked~label.sk-toggleable__label-arrow:before {content: \"▾\";}#sk-container-id-7 div.sk-estimator input.sk-toggleable__control:checked~label.sk-toggleable__label {background-color: #d4ebff;}#sk-container-id-7 div.sk-label input.sk-toggleable__control:checked~label.sk-toggleable__label {background-color: #d4ebff;}#sk-container-id-7 input.sk-hidden--visually {border: 0;clip: rect(1px 1px 1px 1px);clip: rect(1px, 1px, 1px, 1px);height: 1px;margin: -1px;overflow: hidden;padding: 0;position: absolute;width: 1px;}#sk-container-id-7 div.sk-estimator {font-family: monospace;background-color: #f0f8ff;border: 1px dotted black;border-radius: 0.25em;box-sizing: border-box;margin-bottom: 0.5em;}#sk-container-id-7 div.sk-estimator:hover {background-color: #d4ebff;}#sk-container-id-7 div.sk-parallel-item::after {content: \"\";width: 100%;border-bottom: 1px solid gray;flex-grow: 1;}#sk-container-id-7 div.sk-label:hover label.sk-toggleable__label {background-color: #d4ebff;}#sk-container-id-7 div.sk-serial::before {content: \"\";position: absolute;border-left: 1px solid gray;box-sizing: border-box;top: 0;bottom: 0;left: 50%;z-index: 0;}#sk-container-id-7 div.sk-serial {display: flex;flex-direction: column;align-items: center;background-color: white;padding-right: 0.2em;padding-left: 0.2em;position: relative;}#sk-container-id-7 div.sk-item {position: relative;z-index: 1;}#sk-container-id-7 div.sk-parallel {display: flex;align-items: stretch;justify-content: center;background-color: white;position: relative;}#sk-container-id-7 div.sk-item::before, #sk-container-id-7 div.sk-parallel-item::before {content: \"\";position: absolute;border-left: 1px solid gray;box-sizing: border-box;top: 0;bottom: 0;left: 50%;z-index: -1;}#sk-container-id-7 div.sk-parallel-item {display: flex;flex-direction: column;z-index: 1;position: relative;background-color: white;}#sk-container-id-7 div.sk-parallel-item:first-child::after {align-self: flex-end;width: 50%;}#sk-container-id-7 div.sk-parallel-item:last-child::after {align-self: flex-start;width: 50%;}#sk-container-id-7 div.sk-parallel-item:only-child::after {width: 0;}#sk-container-id-7 div.sk-dashed-wrapped {border: 1px dashed gray;margin: 0 0.4em 0.5em 0.4em;box-sizing: border-box;padding-bottom: 0.4em;background-color: white;}#sk-container-id-7 div.sk-label label {font-family: monospace;font-weight: bold;display: inline-block;line-height: 1.2em;}#sk-container-id-7 div.sk-label-container {text-align: center;}#sk-container-id-7 div.sk-container {/* jupyter's `normalize.less` sets `[hidden] { display: none; }` but bootstrap.min.css set `[hidden] { display: none !important; }` so we also need the `!important` here to be able to override the default hidden behavior on the sphinx rendered scikit-learn.org. See: https://github.com/scikit-learn/scikit-learn/issues/21755 */display: inline-block !important;position: relative;}#sk-container-id-7 div.sk-text-repr-fallback {display: none;}</style><div id=\"sk-container-id-7\" class=\"sk-top-container\"><div class=\"sk-text-repr-fallback\"><pre>LogisticRegressionCV(Cs=[1, 10, 100], cv=3, max_iter=200, random_state=42)</pre><b>In a Jupyter environment, please rerun this cell to show the HTML representation or trust the notebook. <br />On GitHub, the HTML representation is unable to render, please try loading this page with nbviewer.org.</b></div><div class=\"sk-container\" hidden><div class=\"sk-item\"><div class=\"sk-estimator sk-toggleable\"><input class=\"sk-toggleable__control sk-hidden--visually\" id=\"sk-estimator-id-9\" type=\"checkbox\" checked><label for=\"sk-estimator-id-9\" class=\"sk-toggleable__label sk-toggleable__label-arrow\">LogisticRegressionCV</label><div class=\"sk-toggleable__content\"><pre>LogisticRegressionCV(Cs=[1, 10, 100], cv=3, max_iter=200, random_state=42)</pre></div></div></div></div></div>"
      ],
      "text/plain": [
       "LogisticRegressionCV(Cs=[1, 10, 100], cv=3, max_iter=200, random_state=42)"
      ]
     },
     "execution_count": 260,
     "metadata": {},
     "output_type": "execute_result"
    }
   ],
   "source": [
    "youtube = pd.read_csv('data/youtube.csv.gz', compression='gzip')\n",
    "youtube.upload_date = pd.to_datetime(youtube.upload_date)\n",
    "youtube = youtube[['view_count', 'upload_date', 'duration', 'average_rating', 'height', 'width', 'channel_cat']]\n",
    "\n",
    "youtube['upload_month'] = youtube['upload_date'].apply(lambda x: x.month)\n",
    "youtube['upload_year'] = youtube['upload_date'].apply(lambda x: x.year)\n",
    "youtube = youtube.drop(['upload_date'], axis=1)\n",
    "\n",
    "youtube['High_view_count'] = youtube['view_count'].apply(lambda x: True if x > median else False)\n",
    "youtube.drop(columns='view_count')\n",
    "X = pd.get_dummies(youtube[['upload_month', 'upload_year', 'duration', 'average_rating', 'height', 'width', 'channel_cat']])\n",
    "y = youtube['High_view_count'].astype(int)\n",
    "\n",
    "X_train, X_test, y_train, y_test = train_test_split(X, y, test_size=0.3, random_state=42)\n",
    "\n",
    "from sklearn.linear_model import LogisticRegressionCV\n",
    "C = [1, 10, 100]\n",
    "logistic_cv = LogisticRegressionCV(Cs=C, cv=3, random_state=42, max_iter=200)\n",
    "logistic_cv.fit(X_train, y_train)"
   ]
  },
  {
   "cell_type": "code",
   "execution_count": 261,
   "metadata": {},
   "outputs": [
    {
     "name": "stdout",
     "output_type": "stream",
     "text": [
      "Accuracy: 0.6135044082861444\n"
     ]
    }
   ],
   "source": [
    "from sklearn.metrics import accuracy_score\n",
    "print(\"Accuracy:\", accuracy_score(y_true=y_test, y_pred=logistic_cv.predict(X_test)))"
   ]
  },
  {
   "cell_type": "markdown",
   "metadata": {},
   "source": [
    "2. The dynamics of the two categories might differ a lot, and the two communities might value different properties of a video differently. For instance, for one community, a long duration might be more important, for the other one, a large picture width. Thus, having only a single weight for, e.g., the duration of a video, might not give the best results. Is there something smarter that you can do than simply including the category as a single one-hot-encoded feature to improve the classification performance? Implement your idea and compare the accuracy on the test set with that of the first model (from task B5.1)."
   ]
  },
  {
   "cell_type": "code",
   "execution_count": null,
   "metadata": {},
   "outputs": [],
   "source": [
    "# Train 2 separate models"
   ]
  },
  {
   "cell_type": "markdown",
   "metadata": {},
   "source": [
    "# Task C: A map of the channels (Graphs)"
   ]
  },
  {
   "cell_type": "markdown",
   "metadata": {},
   "source": [
    "Your friend wants to map out the channels and represent their similarities. For this purpose, we have created two undirected and unweighted graphs for you, where in each graph, each channel has a node and similar channels have edges connecting them. In one graph, the similarity between two channels is based on how similar their video descriptions are, while in the other, the similarity is based on how similar their video tags are. We will call the former $G_{text}$ and the latter $G_{tags}$. You will be analyzing the two graphs loaded by running the cell below."
   ]
  },
  {
   "cell_type": "code",
   "execution_count": 262,
   "metadata": {},
   "outputs": [],
   "source": [
    "from networkx import from_numpy_array\n",
    "import json\n",
    "g_text_adj = np.loadtxt(open('data/g_text_adj.csv', 'r'), delimiter=',', skiprows=0)\n",
    "g_tags_adj = np.loadtxt(open('data/g_tags_adj.csv', 'r'), delimiter=',', skiprows=0)\n",
    "channel_to_index = json.load(open('data/channel_indices.json', 'r'))\n",
    "g_text = from_numpy_array(g_text_adj)\n",
    "g_tags = from_numpy_array(g_tags_adj)"
   ]
  },
  {
   "cell_type": "markdown",
   "metadata": {},
   "source": [
    "## C1: Does YouTube have a content diversity problem?"
   ]
  },
  {
   "cell_type": "markdown",
   "metadata": {},
   "source": [
    "1. For each graph, calculate its diameter (i.e., the largest shortest-path length, where the maximization is done over all node pairs). What difference do you see? _Hint_: Don't worry if you get an error, just read the error message carefully."
   ]
  },
  {
   "cell_type": "code",
   "execution_count": 270,
   "metadata": {},
   "outputs": [
    {
     "name": "stdout",
     "output_type": "stream",
     "text": [
      "Diameter of G_text: 2\n"
     ]
    },
    {
     "ename": "NetworkXError",
     "evalue": "Found infinite path length because the graph is not connected",
     "output_type": "error",
     "traceback": [
      "\u001b[1;31m---------------------------------------------------------------------------\u001b[0m",
      "\u001b[1;31mNetworkXError\u001b[0m                             Traceback (most recent call last)",
      "Cell \u001b[1;32mIn[270], line 3\u001b[0m\n\u001b[0;32m      1\u001b[0m \u001b[38;5;28;01mimport\u001b[39;00m\u001b[38;5;250m \u001b[39m\u001b[38;5;21;01mnetworkx\u001b[39;00m\u001b[38;5;250m \u001b[39m\u001b[38;5;28;01mas\u001b[39;00m\u001b[38;5;250m \u001b[39m\u001b[38;5;21;01mnx\u001b[39;00m\n\u001b[0;32m      2\u001b[0m \u001b[38;5;28mprint\u001b[39m(\u001b[38;5;124m\"\u001b[39m\u001b[38;5;124mDiameter of G_text:\u001b[39m\u001b[38;5;124m\"\u001b[39m,nx\u001b[38;5;241m.\u001b[39mdiameter(g_text))\n\u001b[1;32m----> 3\u001b[0m \u001b[38;5;28mprint\u001b[39m(\u001b[38;5;124m\"\u001b[39m\u001b[38;5;124mDiameter of G_tags:\u001b[39m\u001b[38;5;124m\"\u001b[39m,\u001b[43mnx\u001b[49m\u001b[38;5;241;43m.\u001b[39;49m\u001b[43mdiameter\u001b[49m\u001b[43m(\u001b[49m\u001b[43mg_tags\u001b[49m\u001b[43m)\u001b[49m)\n",
      "File \u001b[1;32m<class 'networkx.utils.decorators.argmap'> compilation 16:3\u001b[0m, in \u001b[0;36margmap_diameter_13\u001b[1;34m(G, e, usebounds, weight, backend, **backend_kwargs)\u001b[0m\n\u001b[0;32m      1\u001b[0m \u001b[38;5;28;01mimport\u001b[39;00m\u001b[38;5;250m \u001b[39m\u001b[38;5;21;01mbz2\u001b[39;00m\n\u001b[0;32m      2\u001b[0m \u001b[38;5;28;01mimport\u001b[39;00m\u001b[38;5;250m \u001b[39m\u001b[38;5;21;01mcollections\u001b[39;00m\n\u001b[1;32m----> 3\u001b[0m \u001b[38;5;28;01mimport\u001b[39;00m\u001b[38;5;250m \u001b[39m\u001b[38;5;21;01mgzip\u001b[39;00m\n\u001b[0;32m      4\u001b[0m \u001b[38;5;28;01mimport\u001b[39;00m\u001b[38;5;250m \u001b[39m\u001b[38;5;21;01minspect\u001b[39;00m\n\u001b[0;32m      5\u001b[0m \u001b[38;5;28;01mimport\u001b[39;00m\u001b[38;5;250m \u001b[39m\u001b[38;5;21;01mitertools\u001b[39;00m\n",
      "File \u001b[1;32mc:\\Anaconda\\envs\\ada_exam_2024\\lib\\site-packages\\networkx\\utils\\backends.py:967\u001b[0m, in \u001b[0;36m_dispatchable.__call__\u001b[1;34m(self, backend, *args, **kwargs)\u001b[0m\n\u001b[0;32m    965\u001b[0m     \u001b[38;5;28;01mif\u001b[39;00m backend \u001b[38;5;129;01mis\u001b[39;00m \u001b[38;5;129;01mnot\u001b[39;00m \u001b[38;5;28;01mNone\u001b[39;00m \u001b[38;5;129;01mand\u001b[39;00m backend \u001b[38;5;241m!=\u001b[39m \u001b[38;5;124m\"\u001b[39m\u001b[38;5;124mnetworkx\u001b[39m\u001b[38;5;124m\"\u001b[39m:\n\u001b[0;32m    966\u001b[0m         \u001b[38;5;28;01mraise\u001b[39;00m \u001b[38;5;167;01mImportError\u001b[39;00m(\u001b[38;5;124mf\u001b[39m\u001b[38;5;124m\"\u001b[39m\u001b[38;5;124m'\u001b[39m\u001b[38;5;132;01m{\u001b[39;00mbackend\u001b[38;5;132;01m}\u001b[39;00m\u001b[38;5;124m'\u001b[39m\u001b[38;5;124m backend is not installed\u001b[39m\u001b[38;5;124m\"\u001b[39m)\n\u001b[1;32m--> 967\u001b[0m     \u001b[38;5;28;01mreturn\u001b[39;00m \u001b[38;5;28mself\u001b[39m\u001b[38;5;241m.\u001b[39morig_func(\u001b[38;5;241m*\u001b[39margs, \u001b[38;5;241m*\u001b[39m\u001b[38;5;241m*\u001b[39mkwargs)\n\u001b[0;32m    969\u001b[0m \u001b[38;5;66;03m# Use `backend_name` in this function instead of `backend`.\u001b[39;00m\n\u001b[0;32m    970\u001b[0m \u001b[38;5;66;03m# This is purely for aesthetics and to make it easier to search for this\u001b[39;00m\n\u001b[0;32m    971\u001b[0m \u001b[38;5;66;03m# variable since \"backend\" is used in many comments and log/error messages.\u001b[39;00m\n\u001b[0;32m    972\u001b[0m backend_name \u001b[38;5;241m=\u001b[39m backend\n",
      "File \u001b[1;32mc:\\Anaconda\\envs\\ada_exam_2024\\lib\\site-packages\\networkx\\algorithms\\distance_measures.py:386\u001b[0m, in \u001b[0;36mdiameter\u001b[1;34m(G, e, usebounds, weight)\u001b[0m\n\u001b[0;32m    384\u001b[0m     \u001b[38;5;28;01mreturn\u001b[39;00m _extrema_bounding(G, compute\u001b[38;5;241m=\u001b[39m\u001b[38;5;124m\"\u001b[39m\u001b[38;5;124mdiameter\u001b[39m\u001b[38;5;124m\"\u001b[39m, weight\u001b[38;5;241m=\u001b[39mweight)\n\u001b[0;32m    385\u001b[0m \u001b[38;5;28;01mif\u001b[39;00m e \u001b[38;5;129;01mis\u001b[39;00m \u001b[38;5;28;01mNone\u001b[39;00m:\n\u001b[1;32m--> 386\u001b[0m     e \u001b[38;5;241m=\u001b[39m \u001b[43meccentricity\u001b[49m\u001b[43m(\u001b[49m\u001b[43mG\u001b[49m\u001b[43m,\u001b[49m\u001b[43m \u001b[49m\u001b[43mweight\u001b[49m\u001b[38;5;241;43m=\u001b[39;49m\u001b[43mweight\u001b[49m\u001b[43m)\u001b[49m\n\u001b[0;32m    387\u001b[0m \u001b[38;5;28;01mreturn\u001b[39;00m \u001b[38;5;28mmax\u001b[39m(e\u001b[38;5;241m.\u001b[39mvalues())\n",
      "File \u001b[1;32m<class 'networkx.utils.decorators.argmap'> compilation 20:3\u001b[0m, in \u001b[0;36margmap_eccentricity_17\u001b[1;34m(G, v, sp, weight, backend, **backend_kwargs)\u001b[0m\n\u001b[0;32m      1\u001b[0m \u001b[38;5;28;01mimport\u001b[39;00m\u001b[38;5;250m \u001b[39m\u001b[38;5;21;01mbz2\u001b[39;00m\n\u001b[0;32m      2\u001b[0m \u001b[38;5;28;01mimport\u001b[39;00m\u001b[38;5;250m \u001b[39m\u001b[38;5;21;01mcollections\u001b[39;00m\n\u001b[1;32m----> 3\u001b[0m \u001b[38;5;28;01mimport\u001b[39;00m\u001b[38;5;250m \u001b[39m\u001b[38;5;21;01mgzip\u001b[39;00m\n\u001b[0;32m      4\u001b[0m \u001b[38;5;28;01mimport\u001b[39;00m\u001b[38;5;250m \u001b[39m\u001b[38;5;21;01minspect\u001b[39;00m\n\u001b[0;32m      5\u001b[0m \u001b[38;5;28;01mimport\u001b[39;00m\u001b[38;5;250m \u001b[39m\u001b[38;5;21;01mitertools\u001b[39;00m\n",
      "File \u001b[1;32mc:\\Anaconda\\envs\\ada_exam_2024\\lib\\site-packages\\networkx\\utils\\backends.py:967\u001b[0m, in \u001b[0;36m_dispatchable.__call__\u001b[1;34m(self, backend, *args, **kwargs)\u001b[0m\n\u001b[0;32m    965\u001b[0m     \u001b[38;5;28;01mif\u001b[39;00m backend \u001b[38;5;129;01mis\u001b[39;00m \u001b[38;5;129;01mnot\u001b[39;00m \u001b[38;5;28;01mNone\u001b[39;00m \u001b[38;5;129;01mand\u001b[39;00m backend \u001b[38;5;241m!=\u001b[39m \u001b[38;5;124m\"\u001b[39m\u001b[38;5;124mnetworkx\u001b[39m\u001b[38;5;124m\"\u001b[39m:\n\u001b[0;32m    966\u001b[0m         \u001b[38;5;28;01mraise\u001b[39;00m \u001b[38;5;167;01mImportError\u001b[39;00m(\u001b[38;5;124mf\u001b[39m\u001b[38;5;124m\"\u001b[39m\u001b[38;5;124m'\u001b[39m\u001b[38;5;132;01m{\u001b[39;00mbackend\u001b[38;5;132;01m}\u001b[39;00m\u001b[38;5;124m'\u001b[39m\u001b[38;5;124m backend is not installed\u001b[39m\u001b[38;5;124m\"\u001b[39m)\n\u001b[1;32m--> 967\u001b[0m     \u001b[38;5;28;01mreturn\u001b[39;00m \u001b[38;5;28mself\u001b[39m\u001b[38;5;241m.\u001b[39morig_func(\u001b[38;5;241m*\u001b[39margs, \u001b[38;5;241m*\u001b[39m\u001b[38;5;241m*\u001b[39mkwargs)\n\u001b[0;32m    969\u001b[0m \u001b[38;5;66;03m# Use `backend_name` in this function instead of `backend`.\u001b[39;00m\n\u001b[0;32m    970\u001b[0m \u001b[38;5;66;03m# This is purely for aesthetics and to make it easier to search for this\u001b[39;00m\n\u001b[0;32m    971\u001b[0m \u001b[38;5;66;03m# variable since \"backend\" is used in many comments and log/error messages.\u001b[39;00m\n\u001b[0;32m    972\u001b[0m backend_name \u001b[38;5;241m=\u001b[39m backend\n",
      "File \u001b[1;32mc:\\Anaconda\\envs\\ada_exam_2024\\lib\\site-packages\\networkx\\algorithms\\distance_measures.py:325\u001b[0m, in \u001b[0;36meccentricity\u001b[1;34m(G, v, sp, weight)\u001b[0m\n\u001b[0;32m    323\u001b[0m         \u001b[38;5;28;01melse\u001b[39;00m:\n\u001b[0;32m    324\u001b[0m             msg \u001b[38;5;241m=\u001b[39m \u001b[38;5;124m\"\u001b[39m\u001b[38;5;124mFound infinite path length because the graph is not\u001b[39m\u001b[38;5;124m\"\u001b[39m \u001b[38;5;124m\"\u001b[39m\u001b[38;5;124m connected\u001b[39m\u001b[38;5;124m\"\u001b[39m\n\u001b[1;32m--> 325\u001b[0m         \u001b[38;5;28;01mraise\u001b[39;00m nx\u001b[38;5;241m.\u001b[39mNetworkXError(msg)\n\u001b[0;32m    327\u001b[0m     e[n] \u001b[38;5;241m=\u001b[39m \u001b[38;5;28mmax\u001b[39m(length\u001b[38;5;241m.\u001b[39mvalues())\n\u001b[0;32m    329\u001b[0m \u001b[38;5;28;01mif\u001b[39;00m v \u001b[38;5;129;01min\u001b[39;00m G:\n",
      "\u001b[1;31mNetworkXError\u001b[0m: Found infinite path length because the graph is not connected"
     ]
    }
   ],
   "source": [
    "import networkx as nx\n",
    "print(\"Diameter of G_text:\",nx.diameter(g_text))\n",
    "print(\"Diameter of G_tags:\",nx.diameter(g_tags))"
   ]
  },
  {
   "cell_type": "markdown",
   "metadata": {},
   "source": [
    "G_text has a diameter of 2 while G_tags is unconnected so it does not have a finite diameter"
   ]
  },
  {
   "cell_type": "markdown",
   "metadata": {},
   "source": [
    "2. What does the diameter of $G_{text}$ say about the diversity of the channels’ contents? How about the diameter of $G_{tags}$?"
   ]
  },
  {
   "cell_type": "code",
   "execution_count": 271,
   "metadata": {},
   "outputs": [],
   "source": [
    "# What the diameter says in case of $G_{text}$ is that thethe longest shortest path is just 2 edges long, which could mean relatively low diversity,\n",
    "#  while $G_{tags}$ doesn't tell us much because its diameter is undefined."
   ]
  },
  {
   "cell_type": "markdown",
   "metadata": {},
   "source": [
    "3. Based on what you have calculated, which one has greater diversity: descriptions used by channels, or tags used by channels? Justify your answer."
   ]
  },
  {
   "cell_type": "code",
   "execution_count": 272,
   "metadata": {},
   "outputs": [],
   "source": [
    "# Based on the diameter, the description of channels have a very low diversity, all channels are close to each other\n",
    "# On the other hand, tags used by channels are far from each other as the graph is not connected which highlights a great diversity"
   ]
  },
  {
   "cell_type": "markdown",
   "metadata": {},
   "source": [
    "4. Imagine that you want to **compare** content diversity between two sets of channels (i.e., you want to see which set of channels has more diverse content), and you have calculated a tag-based graph for each set. Do you think the diameter is a good measure for doing the comparison? Justify your answer."
   ]
  },
  {
   "cell_type": "code",
   "execution_count": 273,
   "metadata": {},
   "outputs": [],
   "source": [
    "# No, because as we saw, the diameter can end up being undefined for both, which implies that both are diverse but \n",
    "# does not provide much of a comparison."
   ]
  },
  {
   "cell_type": "markdown",
   "metadata": {},
   "source": [
    "5. Back to our own two graphs. Based on $G_{text}$, for each category of channels, which channel is the one most representative of the contents of all channels in that category? In other words, for each category, if you needed to provide a summary of all channels in the category via one channel, which channel would you choose? Show us (us being the exam designers and your friend) the descriptions of this channel’s two most-viewed videos. What metric did you use for this purpose? Explain your choice."
   ]
  },
  {
   "cell_type": "code",
   "execution_count": 298,
   "metadata": {},
   "outputs": [
    {
     "name": "stdout",
     "output_type": "stream",
     "text": [
      "Node number 194 is the node with the higher betweenness centrality so it provides a summary of every other node\n",
      "{0: {'weight': 1.0}, 1: {'weight': 1.0}, 2: {'weight': 1.0}, 3: {'weight': 1.0}, 4: {'weight': 1.0}, 5: {'weight': 1.0}, 6: {'weight': 1.0}, 7: {'weight': 1.0}, 9: {'weight': 1.0}, 10: {'weight': 1.0}, 11: {'weight': 1.0}, 12: {'weight': 1.0}, 13: {'weight': 1.0}, 14: {'weight': 1.0}, 15: {'weight': 1.0}, 16: {'weight': 1.0}, 17: {'weight': 1.0}, 18: {'weight': 1.0}, 19: {'weight': 1.0}, 20: {'weight': 1.0}, 21: {'weight': 1.0}, 22: {'weight': 1.0}, 23: {'weight': 1.0}, 24: {'weight': 1.0}, 25: {'weight': 1.0}, 26: {'weight': 1.0}, 27: {'weight': 1.0}, 28: {'weight': 1.0}, 29: {'weight': 1.0}, 30: {'weight': 1.0}, 31: {'weight': 1.0}, 32: {'weight': 1.0}, 33: {'weight': 1.0}, 34: {'weight': 1.0}, 36: {'weight': 1.0}, 37: {'weight': 1.0}, 38: {'weight': 1.0}, 39: {'weight': 1.0}, 40: {'weight': 1.0}, 41: {'weight': 1.0}, 42: {'weight': 1.0}, 43: {'weight': 1.0}, 44: {'weight': 1.0}, 45: {'weight': 1.0}, 46: {'weight': 1.0}, 47: {'weight': 1.0}, 48: {'weight': 1.0}, 49: {'weight': 1.0}, 50: {'weight': 1.0}, 51: {'weight': 1.0}, 52: {'weight': 1.0}, 53: {'weight': 1.0}, 54: {'weight': 1.0}, 55: {'weight': 1.0}, 56: {'weight': 1.0}, 57: {'weight': 1.0}, 58: {'weight': 1.0}, 59: {'weight': 1.0}, 60: {'weight': 1.0}, 61: {'weight': 1.0}, 62: {'weight': 1.0}, 63: {'weight': 1.0}, 64: {'weight': 1.0}, 65: {'weight': 1.0}, 66: {'weight': 1.0}, 67: {'weight': 1.0}, 68: {'weight': 1.0}, 69: {'weight': 1.0}, 70: {'weight': 1.0}, 71: {'weight': 1.0}, 72: {'weight': 1.0}, 73: {'weight': 1.0}, 74: {'weight': 1.0}, 75: {'weight': 1.0}, 76: {'weight': 1.0}, 77: {'weight': 1.0}, 78: {'weight': 1.0}, 79: {'weight': 1.0}, 80: {'weight': 1.0}, 81: {'weight': 1.0}, 82: {'weight': 1.0}, 83: {'weight': 1.0}, 84: {'weight': 1.0}, 85: {'weight': 1.0}, 86: {'weight': 1.0}, 87: {'weight': 1.0}, 88: {'weight': 1.0}, 89: {'weight': 1.0}, 90: {'weight': 1.0}, 91: {'weight': 1.0}, 92: {'weight': 1.0}, 93: {'weight': 1.0}, 94: {'weight': 1.0}, 95: {'weight': 1.0}, 96: {'weight': 1.0}, 97: {'weight': 1.0}, 98: {'weight': 1.0}, 99: {'weight': 1.0}, 100: {'weight': 1.0}, 101: {'weight': 1.0}, 102: {'weight': 1.0}, 103: {'weight': 1.0}, 104: {'weight': 1.0}, 105: {'weight': 1.0}, 106: {'weight': 1.0}, 107: {'weight': 1.0}, 108: {'weight': 1.0}, 109: {'weight': 1.0}, 110: {'weight': 1.0}, 112: {'weight': 1.0}, 113: {'weight': 1.0}, 114: {'weight': 1.0}, 115: {'weight': 1.0}, 116: {'weight': 1.0}, 117: {'weight': 1.0}, 118: {'weight': 1.0}, 119: {'weight': 1.0}, 120: {'weight': 1.0}, 121: {'weight': 1.0}, 122: {'weight': 1.0}, 123: {'weight': 1.0}, 124: {'weight': 1.0}, 125: {'weight': 1.0}, 126: {'weight': 1.0}, 127: {'weight': 1.0}, 128: {'weight': 1.0}, 129: {'weight': 1.0}, 130: {'weight': 1.0}, 131: {'weight': 1.0}, 132: {'weight': 1.0}, 133: {'weight': 1.0}, 134: {'weight': 1.0}, 135: {'weight': 1.0}, 136: {'weight': 1.0}, 137: {'weight': 1.0}, 138: {'weight': 1.0}, 139: {'weight': 1.0}, 140: {'weight': 1.0}, 141: {'weight': 1.0}, 142: {'weight': 1.0}, 143: {'weight': 1.0}, 144: {'weight': 1.0}, 145: {'weight': 1.0}, 146: {'weight': 1.0}, 147: {'weight': 1.0}, 148: {'weight': 1.0}, 149: {'weight': 1.0}, 150: {'weight': 1.0}, 151: {'weight': 1.0}, 152: {'weight': 1.0}, 153: {'weight': 1.0}, 154: {'weight': 1.0}, 155: {'weight': 1.0}, 157: {'weight': 1.0}, 158: {'weight': 1.0}, 159: {'weight': 1.0}, 160: {'weight': 1.0}, 161: {'weight': 1.0}, 162: {'weight': 1.0}, 163: {'weight': 1.0}, 164: {'weight': 1.0}, 165: {'weight': 1.0}, 166: {'weight': 1.0}, 167: {'weight': 1.0}, 168: {'weight': 1.0}, 169: {'weight': 1.0}, 170: {'weight': 1.0}, 171: {'weight': 1.0}, 172: {'weight': 1.0}, 173: {'weight': 1.0}, 174: {'weight': 1.0}, 175: {'weight': 1.0}, 176: {'weight': 1.0}, 177: {'weight': 1.0}, 178: {'weight': 1.0}, 180: {'weight': 1.0}, 181: {'weight': 1.0}, 182: {'weight': 1.0}, 183: {'weight': 1.0}, 184: {'weight': 1.0}, 185: {'weight': 1.0}, 186: {'weight': 1.0}, 187: {'weight': 1.0}, 188: {'weight': 1.0}, 189: {'weight': 1.0}, 190: {'weight': 1.0}, 191: {'weight': 1.0}, 192: {'weight': 1.0}, 193: {'weight': 1.0}, 194: {'weight': 1.0}}\n",
      "The name of the channel corresponding to node 194 is ['CoryxKenshin']\n"
     ]
    },
    {
     "data": {
      "text/html": [
       "<div>\n",
       "<style scoped>\n",
       "    .dataframe tbody tr th:only-of-type {\n",
       "        vertical-align: middle;\n",
       "    }\n",
       "\n",
       "    .dataframe tbody tr th {\n",
       "        vertical-align: top;\n",
       "    }\n",
       "\n",
       "    .dataframe thead th {\n",
       "        text-align: right;\n",
       "    }\n",
       "</style>\n",
       "<table border=\"1\" class=\"dataframe\">\n",
       "  <thead>\n",
       "    <tr style=\"text-align: right;\">\n",
       "      <th></th>\n",
       "      <th>channel</th>\n",
       "      <th>upload_date</th>\n",
       "      <th>title</th>\n",
       "      <th>tags</th>\n",
       "      <th>duration</th>\n",
       "      <th>view_count</th>\n",
       "      <th>average_rating</th>\n",
       "      <th>height</th>\n",
       "      <th>width</th>\n",
       "      <th>channel_cat</th>\n",
       "    </tr>\n",
       "  </thead>\n",
       "  <tbody>\n",
       "    <tr>\n",
       "      <th>72772</th>\n",
       "      <td>CoryxKenshin</td>\n",
       "      <td>2016-08-23</td>\n",
       "      <td>LASER WIRES NOW?! THIS IS GETTING INSANE | Sne...</td>\n",
       "      <td>['gameplay', 'playthrough', 'walkthrough', 'fu...</td>\n",
       "      <td>776.0</td>\n",
       "      <td>11025040.0</td>\n",
       "      <td>4.941371</td>\n",
       "      <td>1080.0</td>\n",
       "      <td>1920.0</td>\n",
       "      <td>Gaming</td>\n",
       "    </tr>\n",
       "    <tr>\n",
       "      <th>72732</th>\n",
       "      <td>CoryxKenshin</td>\n",
       "      <td>2016-11-11</td>\n",
       "      <td>I'M GOING TO ENJOY THI -- I MEAN UH, WATCH OUT...</td>\n",
       "      <td>['gameplay', 'lets', 'play', 'to', 'playthroug...</td>\n",
       "      <td>542.0</td>\n",
       "      <td>10559167.0</td>\n",
       "      <td>4.915229</td>\n",
       "      <td>1080.0</td>\n",
       "      <td>1920.0</td>\n",
       "      <td>Gaming</td>\n",
       "    </tr>\n",
       "  </tbody>\n",
       "</table>\n",
       "</div>"
      ],
      "text/plain": [
       "            channel upload_date  \\\n",
       "72772  CoryxKenshin  2016-08-23   \n",
       "72732  CoryxKenshin  2016-11-11   \n",
       "\n",
       "                                                   title  \\\n",
       "72772  LASER WIRES NOW?! THIS IS GETTING INSANE | Sne...   \n",
       "72732  I'M GOING TO ENJOY THI -- I MEAN UH, WATCH OUT...   \n",
       "\n",
       "                                                    tags  duration  \\\n",
       "72772  ['gameplay', 'playthrough', 'walkthrough', 'fu...     776.0   \n",
       "72732  ['gameplay', 'lets', 'play', 'to', 'playthroug...     542.0   \n",
       "\n",
       "       view_count  average_rating  height   width channel_cat  \n",
       "72772  11025040.0        4.941371  1080.0  1920.0      Gaming  \n",
       "72732  10559167.0        4.915229  1080.0  1920.0      Gaming  "
      ]
     },
     "execution_count": 298,
     "metadata": {},
     "output_type": "execute_result"
    }
   ],
   "source": [
    "# Find the node with the highest betweeness centrality as it's the node contained in most shortest past so its textual description is linked to \n",
    "# all the other\n",
    "max_bwc =  max(nx.betweenness_centrality(g_text).keys())\n",
    "print(\"Node number\", max_bwc, \"is the node with the higher betweenness centrality so it provides a summary of every other node\")\n",
    "print(g_text[max_bwc])\n",
    "channel_194 = [key for key, val in channel_to_index.items() if val == max_bwc]\n",
    "print(\"The name of the channel corresponding to node\", max_bwc, \"is\", channel_194)\n",
    "\n",
    "youtube = pd.read_csv('data/youtube.csv.gz', compression='gzip')\n",
    "youtube.upload_date = pd.to_datetime(youtube.upload_date)\n",
    "youtube_194 = youtube.loc[youtube['channel'] == 'CoryxKenshin']\n",
    "youtube_194.sort_values('view_count', ascending=False).head(2)"
   ]
  },
  {
   "cell_type": "markdown",
   "metadata": {},
   "source": [
    "## C2: Going back to categories again"
   ]
  },
  {
   "cell_type": "markdown",
   "metadata": {},
   "source": [
    "1. We want to use the two graphs to cluster channels from the same category together, and we want to compare their effectiveness at doing so. Use Kernighan-Lin bisection in the networkx package (`networkx.algorithms.community.kernighan_lin_bisection`) to divide each graph into two communities. Use 42 as the random seed. For each graph, show how many members of each category fall into each of the two communities."
   ]
  },
  {
   "cell_type": "code",
   "execution_count": 300,
   "metadata": {},
   "outputs": [],
   "source": [
    "from networkx.algorithms.community import kernighan_lin_bisection\n",
    "g1 = kernighan_lin_bisection(g_text, seed=42)\n",
    "g2 = kernighan_lin_bisection(g_tags, seed=42)"
   ]
  },
  {
   "cell_type": "code",
   "execution_count": 317,
   "metadata": {},
   "outputs": [],
   "source": [
    "cats_df = youtube.loc[(youtube.channel_cat == 'Gaming') | (youtube.channel_cat == 'Howto & Style'), \n",
    "                   ['channel', 'channel_cat']].drop_duplicates(subset='channel')\n",
    "cats_dict = {channel_to_index[cats_df.channel.values[i]]: cats_df.channel_cat.values[i] \n",
    "             for i in range(cats_df.shape[0])}\n",
    "cats_dict = {k:1 if v == 'Gaming' else 0 for k,v in cats_dict.items()}\n",
    "# instead of created this category dictionary, we could simple set catecory as a string \n",
    "\n",
    "def calculate_community_probabilities(bisection, category, channel_cats):\n",
    "    total_cat = len([x for x in channel_cats if channel_cats[x] == category])\n",
    "    p_com1_cat = len([x for x in bisection[0] if channel_cats[x] == category]) / total_cat\n",
    "    p_com2_cat = len([x for x in bisection[1] if channel_cats[x] == category]) / total_cat\n",
    "    return p_com1_cat, p_com2_cat, p_com1_cat*total_cat, p_com2_cat*total_cat\n"
   ]
  },
  {
   "cell_type": "code",
   "execution_count": 314,
   "metadata": {},
   "outputs": [
    {
     "name": "stdout",
     "output_type": "stream",
     "text": [
      "(0.4583333333333333, 0.5416666666666666, 44.0, 52.0)\n",
      "(0.5353535353535354, 0.46464646464646464, 53.0, 46.0)\n",
      "(0.16666666666666666, 0.8333333333333334, 16.0, 80.0)\n",
      "(0.8181818181818182, 0.18181818181818182, 81.0, 18.0)\n"
     ]
    }
   ],
   "source": [
    "# Based from textual descriptions graph\n",
    "# (proba gamming in community 1, proba gamming in community 2, nb gamming in community 1, nb gamming in community 2)\n",
    "print(calculate_community_probabilities(g1, 0, cats_dict))\n",
    "# (proba howto in community 1, proba howto in community 2, nb howto in community 1, nb howto in community 2)\n",
    "print(calculate_community_probabilities(g1, 1, cats_dict))\n",
    "\n",
    "# Based from video tags\n",
    "# (proba gamming in community 1, proba gamming in community 2, nb gamming in community 1, nb gamming in community 2)\n",
    "print(calculate_community_probabilities(g2, 0, cats_dict))\n",
    "# (proba howto in community 1, proba howto in community 2, nb howto in community 1, nb howto in community 2)\n",
    "print(calculate_community_probabilities(g2, 1, cats_dict))"
   ]
  },
  {
   "cell_type": "markdown",
   "metadata": {},
   "source": [
    "2. If one of these graphs were ideal for this clustering task, what would the resulting communities look like? If it were the absolute worst possible graph for the task, what would the resulting communities look like?"
   ]
  },
  {
   "cell_type": "code",
   "execution_count": 316,
   "metadata": {},
   "outputs": [],
   "source": [
    "# ideal > equal number in each community. One community containing only gamming channels and the other containing only how-to channel\n",
    "# probability for each category to be part of their community should be 1 (and 0 to be part of the other community)\n",
    "\n",
    "# worst > equal number of gamming and howto channels in every communities ~g1"
   ]
  },
  {
   "cell_type": "markdown",
   "metadata": {},
   "source": [
    "3. Calculate the probability $P(community|category)$ for each community and category within each graph. Design a metric, using the four $P(community|category)$ values in a graph, whose value would be 1 for the ideal graph and 0 for the worst graph. Calculate this metric for both graphs and compare the two. What do the results say about how representative tags and descriptions are regarding the channel categories? Are tags better suited, or descriptions?"
   ]
  },
  {
   "cell_type": "code",
   "execution_count": 318,
   "metadata": {},
   "outputs": [],
   "source": [
    "# See above for probabilities\n",
    "# For the metric, one could be: 1 - 2*min_{community, category}*{P(community|category)}\n",
    "# Based on this, G_{tags} is quite superior in its discrimination between the two categories."
   ]
  },
  {
   "cell_type": "markdown",
   "metadata": {},
   "source": [
    "4. The Kernighan-Lin bisection you used above performs a min-edge cut: It attempts to partition the nodes of the graph into two sets of almost-equal size by deleting as few edges as possible. It starts off by creating a random partition of the nodes of the graph into two sets A and B that are almost equal in size, and then iteratively and in a greedy fashion moves nodes between A and B to reduce the number of edges between A and B. Show at least one toy example of a graph where the initialization could also be the final result. (Hint: Think of how, as we explained, the bisection algorithm relies on a minimum edge cut with a random initialization; under what circumstances could the original A and B be the best partition given that graph?)"
   ]
  },
  {
   "cell_type": "markdown",
   "metadata": {},
   "source": [
    "A case where the initialisation would also be the final result would be when we have a graph with two connected components, and where each community in the initialisation is one of the two connected components. Since this is a bipartition with no edge deletions, it essentially is a local minimum of the algorithm and is also the final result."
   ]
  }
 ],
 "metadata": {
  "kernelspec": {
   "display_name": "ada_exam_2024",
   "language": "python",
   "name": "python3"
  },
  "language_info": {
   "codemirror_mode": {
    "name": "ipython",
    "version": 3
   },
   "file_extension": ".py",
   "mimetype": "text/x-python",
   "name": "python",
   "nbconvert_exporter": "python",
   "pygments_lexer": "ipython3",
   "version": "3.10.16"
  }
 },
 "nbformat": 4,
 "nbformat_minor": 4
}
